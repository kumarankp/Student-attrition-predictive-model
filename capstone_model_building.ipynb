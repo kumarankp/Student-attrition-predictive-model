{
 "cells": [
  {
   "cell_type": "code",
   "execution_count": 1,
   "metadata": {},
   "outputs": [],
   "source": [
    "import pandas as pd\n",
    "from pandas import DataFrame,Series\n",
    "import numpy as np\n",
    "import matplotlib.pyplot as plt\n",
    "%matplotlib inline"
   ]
  },
  {
   "cell_type": "code",
   "execution_count": 2,
   "metadata": {},
   "outputs": [],
   "source": [
    "import statsmodels.formula.api as smf\n",
    "import statsmodels.api as sm"
   ]
  },
  {
   "cell_type": "code",
   "execution_count": 3,
   "metadata": {},
   "outputs": [],
   "source": [
    "import sklearn.model_selection as model_selection"
   ]
  },
  {
   "cell_type": "code",
   "execution_count": 4,
   "metadata": {},
   "outputs": [],
   "source": [
    "import sklearn.metrics as metrics\n"
   ]
  },
  {
   "cell_type": "code",
   "execution_count": 5,
   "metadata": {},
   "outputs": [],
   "source": [
    "####  data preparation has been done and saved that object named as dataframe.csv   ####\n",
    "####  importing dataframe.csv file  ####\n",
    "\n",
    "dt=pd.read_csv(\"dataframe.csv\")"
   ]
  },
  {
   "cell_type": "code",
   "execution_count": 6,
   "metadata": {},
   "outputs": [
    {
     "data": {
      "text/plain": [
       "Unnamed: 0              int64\n",
       "id                    float64\n",
       "age                   float64\n",
       "gender                 object\n",
       "std_BG                 object\n",
       "IN_STATE_FLAG           int64\n",
       "INTERNATIONAL_STS       int64\n",
       "STDNT_MAJOR            object\n",
       "STDNT_MINOR            object\n",
       "entrance_1            float64\n",
       "entrance_2            float64\n",
       "entrance_comb         float64\n",
       "FIRST_TERM            float64\n",
       "F_1_course             object\n",
       "F_1_grade              object\n",
       "F_2_course             object\n",
       "F_2_grade              object\n",
       "F_3_course             object\n",
       "F_3_grade              object\n",
       "F_4_course             object\n",
       "F_4_grade              object\n",
       "F_5_course             object\n",
       "F_5_grade              object\n",
       "F_6_course             object\n",
       "F_6_grade              object\n",
       "SECOND_TERM           float64\n",
       "S_1_course             object\n",
       "S_1_grade              object\n",
       "S_2_course             object\n",
       "S_2_grade              object\n",
       "S_3_course             object\n",
       "S_3_grade              object\n",
       "S_4_course             object\n",
       "S_4_grade              object\n",
       "S_5_course             object\n",
       "S_5_grade              object\n",
       "S_6_course             object\n",
       "S_6_grade              object\n",
       "HOUSING_STS            object\n",
       "left                  float64\n",
       "DISTANCE_FROM_HOME    float64\n",
       "HIGH_SCHL_GPA         float64\n",
       "HIGH_SCHL_NAME         object\n",
       "FATHER_HI_EDU_DESC     object\n",
       "MOTHER_HI_EDU_DESC     object\n",
       "DEGREE_GROUP_DESC      object\n",
       "F_total_hrs           float64\n",
       "F_earned_hrs          float64\n",
       "S_total_hrs           float64\n",
       "S_earned_hrs          float64\n",
       "amt_std_need          float64\n",
       "course_fee            float64\n",
       "e_fmly_contrb         float64\n",
       "unmet_std_need        float64\n",
       "F_attained_perc       float64\n",
       "S_attained_perc       float64\n",
       "dtype: object"
      ]
     },
     "execution_count": 6,
     "metadata": {},
     "output_type": "execute_result"
    }
   ],
   "source": [
    "dt.dtypes"
   ]
  },
  {
   "cell_type": "markdown",
   "metadata": {},
   "source": [
    "#### EXPLORATORY DATA ANALYSIS  ####"
   ]
  },
  {
   "cell_type": "code",
   "execution_count": 7,
   "metadata": {},
   "outputs": [
    {
     "data": {
      "text/html": [
       "<div>\n",
       "<style scoped>\n",
       "    .dataframe tbody tr th:only-of-type {\n",
       "        vertical-align: middle;\n",
       "    }\n",
       "\n",
       "    .dataframe tbody tr th {\n",
       "        vertical-align: top;\n",
       "    }\n",
       "\n",
       "    .dataframe thead th {\n",
       "        text-align: right;\n",
       "    }\n",
       "</style>\n",
       "<table border=\"1\" class=\"dataframe\">\n",
       "  <thead>\n",
       "    <tr style=\"text-align: right;\">\n",
       "      <th></th>\n",
       "      <th>left</th>\n",
       "    </tr>\n",
       "    <tr>\n",
       "      <th>gender</th>\n",
       "      <th></th>\n",
       "    </tr>\n",
       "  </thead>\n",
       "  <tbody>\n",
       "    <tr>\n",
       "      <td>F</td>\n",
       "      <td>0.221963</td>\n",
       "    </tr>\n",
       "    <tr>\n",
       "      <td>M</td>\n",
       "      <td>0.196187</td>\n",
       "    </tr>\n",
       "  </tbody>\n",
       "</table>\n",
       "</div>"
      ],
      "text/plain": [
       "            left\n",
       "gender          \n",
       "F       0.221963\n",
       "M       0.196187"
      ]
     },
     "execution_count": 7,
     "metadata": {},
     "output_type": "execute_result"
    }
   ],
   "source": [
    "dt[['gender','left']].groupby('gender').mean()"
   ]
  },
  {
   "cell_type": "code",
   "execution_count": 8,
   "metadata": {},
   "outputs": [
    {
     "data": {
      "text/html": [
       "<div>\n",
       "<style scoped>\n",
       "    .dataframe tbody tr th:only-of-type {\n",
       "        vertical-align: middle;\n",
       "    }\n",
       "\n",
       "    .dataframe tbody tr th {\n",
       "        vertical-align: top;\n",
       "    }\n",
       "\n",
       "    .dataframe thead th {\n",
       "        text-align: right;\n",
       "    }\n",
       "</style>\n",
       "<table border=\"1\" class=\"dataframe\">\n",
       "  <thead>\n",
       "    <tr style=\"text-align: right;\">\n",
       "      <th></th>\n",
       "      <th>left</th>\n",
       "    </tr>\n",
       "    <tr>\n",
       "      <th>SECOND_TERM</th>\n",
       "      <th></th>\n",
       "    </tr>\n",
       "  </thead>\n",
       "  <tbody>\n",
       "    <tr>\n",
       "      <td>200602.0</td>\n",
       "      <td>0.215010</td>\n",
       "    </tr>\n",
       "    <tr>\n",
       "      <td>200702.0</td>\n",
       "      <td>0.156942</td>\n",
       "    </tr>\n",
       "    <tr>\n",
       "      <td>200802.0</td>\n",
       "      <td>0.213052</td>\n",
       "    </tr>\n",
       "    <tr>\n",
       "      <td>200902.0</td>\n",
       "      <td>0.227194</td>\n",
       "    </tr>\n",
       "    <tr>\n",
       "      <td>201002.0</td>\n",
       "      <td>0.230769</td>\n",
       "    </tr>\n",
       "    <tr>\n",
       "      <td>201102.0</td>\n",
       "      <td>0.220285</td>\n",
       "    </tr>\n",
       "  </tbody>\n",
       "</table>\n",
       "</div>"
      ],
      "text/plain": [
       "                 left\n",
       "SECOND_TERM          \n",
       "200602.0     0.215010\n",
       "200702.0     0.156942\n",
       "200802.0     0.213052\n",
       "200902.0     0.227194\n",
       "201002.0     0.230769\n",
       "201102.0     0.220285"
      ]
     },
     "execution_count": 8,
     "metadata": {},
     "output_type": "execute_result"
    }
   ],
   "source": [
    "dt[['SECOND_TERM','left']].groupby('SECOND_TERM').mean()"
   ]
  },
  {
   "cell_type": "markdown",
   "metadata": {},
   "source": [
    "INSIGHTS : SECOND_TERM variable\n",
    "    Students who have enrolled on the year of 2007, more likely to continue the course compared to the students who have enrolled on the remaining year\n",
    "    "
   ]
  },
  {
   "cell_type": "code",
   "execution_count": 9,
   "metadata": {
    "scrolled": true
   },
   "outputs": [
    {
     "data": {
      "text/html": [
       "<div>\n",
       "<style scoped>\n",
       "    .dataframe tbody tr th:only-of-type {\n",
       "        vertical-align: middle;\n",
       "    }\n",
       "\n",
       "    .dataframe tbody tr th {\n",
       "        vertical-align: top;\n",
       "    }\n",
       "\n",
       "    .dataframe thead th {\n",
       "        text-align: right;\n",
       "    }\n",
       "</style>\n",
       "<table border=\"1\" class=\"dataframe\">\n",
       "  <thead>\n",
       "    <tr style=\"text-align: right;\">\n",
       "      <th></th>\n",
       "      <th>left</th>\n",
       "    </tr>\n",
       "    <tr>\n",
       "      <th>S_1_grade</th>\n",
       "      <th></th>\n",
       "    </tr>\n",
       "  </thead>\n",
       "  <tbody>\n",
       "    <tr>\n",
       "      <td>A</td>\n",
       "      <td>0.139344</td>\n",
       "    </tr>\n",
       "    <tr>\n",
       "      <td>B</td>\n",
       "      <td>0.112723</td>\n",
       "    </tr>\n",
       "    <tr>\n",
       "      <td>C</td>\n",
       "      <td>0.141280</td>\n",
       "    </tr>\n",
       "    <tr>\n",
       "      <td>D</td>\n",
       "      <td>0.199601</td>\n",
       "    </tr>\n",
       "    <tr>\n",
       "      <td>F</td>\n",
       "      <td>0.313539</td>\n",
       "    </tr>\n",
       "    <tr>\n",
       "      <td>INCOMPL</td>\n",
       "      <td>0.423077</td>\n",
       "    </tr>\n",
       "    <tr>\n",
       "      <td>NOT REP</td>\n",
       "      <td>0.127660</td>\n",
       "    </tr>\n",
       "    <tr>\n",
       "      <td>UD</td>\n",
       "      <td>0.813853</td>\n",
       "    </tr>\n",
       "    <tr>\n",
       "      <td>Unknown</td>\n",
       "      <td>1.000000</td>\n",
       "    </tr>\n",
       "  </tbody>\n",
       "</table>\n",
       "</div>"
      ],
      "text/plain": [
       "               left\n",
       "S_1_grade          \n",
       "A          0.139344\n",
       "B          0.112723\n",
       "C          0.141280\n",
       "D          0.199601\n",
       "F          0.313539\n",
       "INCOMPL    0.423077\n",
       "NOT REP    0.127660\n",
       "UD         0.813853\n",
       "Unknown    1.000000"
      ]
     },
     "execution_count": 9,
     "metadata": {},
     "output_type": "execute_result"
    }
   ],
   "source": [
    "dt[['S_1_grade','left']].groupby('S_1_grade').mean()"
   ]
  },
  {
   "cell_type": "markdown",
   "metadata": {},
   "source": [
    "INSIGHTS: S_1_grade varaible\n",
    "    When student scored grade UD, more likely to leave the course\n",
    "    when student secured grade B, more likely to continue the course \n",
    "    grade Unknown have only 6 observation \n",
    "   \n",
    "    "
   ]
  },
  {
   "cell_type": "code",
   "execution_count": 10,
   "metadata": {},
   "outputs": [
    {
     "data": {
      "text/html": [
       "<div>\n",
       "<style scoped>\n",
       "    .dataframe tbody tr th:only-of-type {\n",
       "        vertical-align: middle;\n",
       "    }\n",
       "\n",
       "    .dataframe tbody tr th {\n",
       "        vertical-align: top;\n",
       "    }\n",
       "\n",
       "    .dataframe thead th {\n",
       "        text-align: right;\n",
       "    }\n",
       "</style>\n",
       "<table border=\"1\" class=\"dataframe\">\n",
       "  <thead>\n",
       "    <tr style=\"text-align: right;\">\n",
       "      <th></th>\n",
       "      <th>left</th>\n",
       "    </tr>\n",
       "    <tr>\n",
       "      <th>S_2_grade</th>\n",
       "      <th></th>\n",
       "    </tr>\n",
       "  </thead>\n",
       "  <tbody>\n",
       "    <tr>\n",
       "      <td>A</td>\n",
       "      <td>0.133676</td>\n",
       "    </tr>\n",
       "    <tr>\n",
       "      <td>B</td>\n",
       "      <td>0.131485</td>\n",
       "    </tr>\n",
       "    <tr>\n",
       "      <td>C</td>\n",
       "      <td>0.169054</td>\n",
       "    </tr>\n",
       "    <tr>\n",
       "      <td>D</td>\n",
       "      <td>0.303571</td>\n",
       "    </tr>\n",
       "    <tr>\n",
       "      <td>F</td>\n",
       "      <td>0.453901</td>\n",
       "    </tr>\n",
       "    <tr>\n",
       "      <td>INCOMPL</td>\n",
       "      <td>0.500000</td>\n",
       "    </tr>\n",
       "    <tr>\n",
       "      <td>UD</td>\n",
       "      <td>0.502283</td>\n",
       "    </tr>\n",
       "  </tbody>\n",
       "</table>\n",
       "</div>"
      ],
      "text/plain": [
       "               left\n",
       "S_2_grade          \n",
       "A          0.133676\n",
       "B          0.131485\n",
       "C          0.169054\n",
       "D          0.303571\n",
       "F          0.453901\n",
       "INCOMPL    0.500000\n",
       "UD         0.502283"
      ]
     },
     "execution_count": 10,
     "metadata": {},
     "output_type": "execute_result"
    }
   ],
   "source": [
    "dt[['S_2_grade','left']].groupby('S_2_grade').mean()"
   ]
  },
  {
   "cell_type": "markdown",
   "metadata": {},
   "source": [
    "INSIGHTS: S_2_grade varaible\n",
    "    When student scored grade UD, more likely to leave the course\n",
    "    when student secured grade A & grade B, more likely to continue the course \n",
    "    grade Unknown have only 6 observation \n",
    "   "
   ]
  },
  {
   "cell_type": "code",
   "execution_count": 11,
   "metadata": {},
   "outputs": [
    {
     "name": "stderr",
     "output_type": "stream",
     "text": [
      "C:\\Users\\hp\\Anaconda3\\lib\\site-packages\\ipykernel_launcher.py:2: FutureWarning: `Series.plot()` should not be called with positional arguments, only keyword arguments. The order of positional arguments will change in the future. Use `Series.plot(kind='hist')` instead of `Series.plot('hist',)`.\n",
      "  \n",
      "C:\\Users\\hp\\Anaconda3\\lib\\site-packages\\ipykernel_launcher.py:3: FutureWarning: `Series.plot()` should not be called with positional arguments, only keyword arguments. The order of positional arguments will change in the future. Use `Series.plot(kind='hist')` instead of `Series.plot('hist',)`.\n",
      "  This is separate from the ipykernel package so we can avoid doing imports until\n"
     ]
    },
    {
     "data": {
      "text/plain": [
       "<matplotlib.axes._subplots.AxesSubplot at 0xa8683f0>"
      ]
     },
     "execution_count": 11,
     "metadata": {},
     "output_type": "execute_result"
    },
    {
     "data": {
      "image/png": "[encoded data removed]",
      "text/plain": [
       "<Figure size 1440x576 with 2 Axes>"
      ]
     },
     "metadata": {
      "needs_background": "light"
     },
     "output_type": "display_data"
    }
   ],
   "source": [
    "fig, axes = plt.subplots(nrows=1, ncols=2, figsize = (20,8))\n",
    "dt.F_attained_perc.plot('hist', bins=20, ax=axes[0], title='F_attained_perc')\n",
    "dt.S_attained_perc.plot('hist', bins=20, ax=axes[1], title='S_attained_perc')"
   ]
  },
  {
   "cell_type": "markdown",
   "metadata": {},
   "source": [
    "INSIGHTS:  F_attained_per &  S_attained_per\n",
    "    majority of the students has 100% percentage attendance on both FIRST & SECOND term."
   ]
  },
  {
   "cell_type": "code",
   "execution_count": 12,
   "metadata": {},
   "outputs": [
    {
     "name": "stderr",
     "output_type": "stream",
     "text": [
      "C:\\Users\\hp\\Anaconda3\\lib\\site-packages\\ipykernel_launcher.py:2: FutureWarning: `Series.plot()` should not be called with positional arguments, only keyword arguments. The order of positional arguments will change in the future. Use `Series.plot(kind='hist')` instead of `Series.plot('hist',)`.\n",
      "  \n",
      "C:\\Users\\hp\\Anaconda3\\lib\\site-packages\\ipykernel_launcher.py:3: FutureWarning: `Series.plot()` should not be called with positional arguments, only keyword arguments. The order of positional arguments will change in the future. Use `Series.plot(kind='hist')` instead of `Series.plot('hist',)`.\n",
      "  This is separate from the ipykernel package so we can avoid doing imports until\n"
     ]
    },
    {
     "data": {
      "text/plain": [
       "<matplotlib.axes._subplots.AxesSubplot at 0xaca62d0>"
      ]
     },
     "execution_count": 12,
     "metadata": {},
     "output_type": "execute_result"
    },
    {
     "data": {
      "image/png": "[encoded data removed]",
      "text/plain": [
       "<Figure size 1440x576 with 2 Axes>"
      ]
     },
     "metadata": {
      "needs_background": "light"
     },
     "output_type": "display_data"
    }
   ],
   "source": [
    "fig, axes = plt.subplots(nrows=1, ncols=2, figsize = (20,8))\n",
    "dt.amt_std_need.plot('hist', bins=20, ax=axes[0], title='AMOUNT STUDENT NEED')\n",
    "dt.unmet_std_need.plot('hist', bins=20, ax=axes[1], title='UNMET THE NEEDS')"
   ]
  },
  {
   "cell_type": "code",
   "execution_count": null,
   "metadata": {},
   "outputs": [],
   "source": []
  },
  {
   "cell_type": "code",
   "execution_count": null,
   "metadata": {},
   "outputs": [],
   "source": []
  },
  {
   "cell_type": "code",
   "execution_count": 13,
   "metadata": {},
   "outputs": [
    {
     "data": {
      "text/html": [
       "<div>\n",
       "<style scoped>\n",
       "    .dataframe tbody tr th:only-of-type {\n",
       "        vertical-align: middle;\n",
       "    }\n",
       "\n",
       "    .dataframe tbody tr th {\n",
       "        vertical-align: top;\n",
       "    }\n",
       "\n",
       "    .dataframe thead th {\n",
       "        text-align: right;\n",
       "    }\n",
       "</style>\n",
       "<table border=\"1\" class=\"dataframe\">\n",
       "  <thead>\n",
       "    <tr style=\"text-align: right;\">\n",
       "      <th></th>\n",
       "      <th>Unnamed: 0</th>\n",
       "      <th>id</th>\n",
       "      <th>age</th>\n",
       "      <th>gender</th>\n",
       "      <th>std_BG</th>\n",
       "      <th>IN_STATE_FLAG</th>\n",
       "      <th>INTERNATIONAL_STS</th>\n",
       "      <th>STDNT_MAJOR</th>\n",
       "      <th>STDNT_MINOR</th>\n",
       "      <th>entrance_1</th>\n",
       "      <th>...</th>\n",
       "      <th>F_total_hrs</th>\n",
       "      <th>F_earned_hrs</th>\n",
       "      <th>S_total_hrs</th>\n",
       "      <th>S_earned_hrs</th>\n",
       "      <th>amt_std_need</th>\n",
       "      <th>course_fee</th>\n",
       "      <th>e_fmly_contrb</th>\n",
       "      <th>unmet_std_need</th>\n",
       "      <th>F_attained_perc</th>\n",
       "      <th>S_attained_perc</th>\n",
       "    </tr>\n",
       "  </thead>\n",
       "  <tbody>\n",
       "    <tr>\n",
       "      <td>0</td>\n",
       "      <td>0</td>\n",
       "      <td>7808615.0</td>\n",
       "      <td>18.0</td>\n",
       "      <td>F</td>\n",
       "      <td>BGD 1</td>\n",
       "      <td>1</td>\n",
       "      <td>0</td>\n",
       "      <td>Undeclared</td>\n",
       "      <td>N</td>\n",
       "      <td>0.0</td>\n",
       "      <td>...</td>\n",
       "      <td>16.0</td>\n",
       "      <td>16.0</td>\n",
       "      <td>14.0</td>\n",
       "      <td>14.0</td>\n",
       "      <td>0.0</td>\n",
       "      <td>0.0</td>\n",
       "      <td>0.0</td>\n",
       "      <td>0.0</td>\n",
       "      <td>1.0</td>\n",
       "      <td>1.0</td>\n",
       "    </tr>\n",
       "    <tr>\n",
       "      <td>1</td>\n",
       "      <td>1</td>\n",
       "      <td>7830063.0</td>\n",
       "      <td>19.0</td>\n",
       "      <td>F</td>\n",
       "      <td>BGD 1</td>\n",
       "      <td>0</td>\n",
       "      <td>0</td>\n",
       "      <td>Undeclared</td>\n",
       "      <td>N</td>\n",
       "      <td>26.0</td>\n",
       "      <td>...</td>\n",
       "      <td>18.0</td>\n",
       "      <td>18.0</td>\n",
       "      <td>18.0</td>\n",
       "      <td>18.0</td>\n",
       "      <td>570000.0</td>\n",
       "      <td>1355760.0</td>\n",
       "      <td>785760.0</td>\n",
       "      <td>459300.0</td>\n",
       "      <td>1.0</td>\n",
       "      <td>1.0</td>\n",
       "    </tr>\n",
       "    <tr>\n",
       "      <td>2</td>\n",
       "      <td>2</td>\n",
       "      <td>7847538.0</td>\n",
       "      <td>18.0</td>\n",
       "      <td>M</td>\n",
       "      <td>BGD 1</td>\n",
       "      <td>1</td>\n",
       "      <td>0</td>\n",
       "      <td>Mathematics</td>\n",
       "      <td>N</td>\n",
       "      <td>0.0</td>\n",
       "      <td>...</td>\n",
       "      <td>15.0</td>\n",
       "      <td>15.0</td>\n",
       "      <td>14.0</td>\n",
       "      <td>14.0</td>\n",
       "      <td>0.0</td>\n",
       "      <td>0.0</td>\n",
       "      <td>0.0</td>\n",
       "      <td>0.0</td>\n",
       "      <td>1.0</td>\n",
       "      <td>1.0</td>\n",
       "    </tr>\n",
       "    <tr>\n",
       "      <td>3</td>\n",
       "      <td>3</td>\n",
       "      <td>8006429.0</td>\n",
       "      <td>18.0</td>\n",
       "      <td>M</td>\n",
       "      <td>BGD 1</td>\n",
       "      <td>1</td>\n",
       "      <td>0</td>\n",
       "      <td>Undeclared</td>\n",
       "      <td>N</td>\n",
       "      <td>0.0</td>\n",
       "      <td>...</td>\n",
       "      <td>13.0</td>\n",
       "      <td>13.0</td>\n",
       "      <td>14.0</td>\n",
       "      <td>14.0</td>\n",
       "      <td>0.0</td>\n",
       "      <td>0.0</td>\n",
       "      <td>0.0</td>\n",
       "      <td>0.0</td>\n",
       "      <td>1.0</td>\n",
       "      <td>1.0</td>\n",
       "    </tr>\n",
       "    <tr>\n",
       "      <td>4</td>\n",
       "      <td>4</td>\n",
       "      <td>7962680.0</td>\n",
       "      <td>18.0</td>\n",
       "      <td>F</td>\n",
       "      <td>BGD 1</td>\n",
       "      <td>1</td>\n",
       "      <td>0</td>\n",
       "      <td>Art</td>\n",
       "      <td>N</td>\n",
       "      <td>0.0</td>\n",
       "      <td>...</td>\n",
       "      <td>12.0</td>\n",
       "      <td>12.0</td>\n",
       "      <td>12.0</td>\n",
       "      <td>12.0</td>\n",
       "      <td>835920.0</td>\n",
       "      <td>1355760.0</td>\n",
       "      <td>519840.0</td>\n",
       "      <td>278340.0</td>\n",
       "      <td>1.0</td>\n",
       "      <td>1.0</td>\n",
       "    </tr>\n",
       "  </tbody>\n",
       "</table>\n",
       "<p>5 rows × 56 columns</p>\n",
       "</div>"
      ],
      "text/plain": [
       "   Unnamed: 0         id   age gender std_BG  IN_STATE_FLAG  \\\n",
       "0           0  7808615.0  18.0      F  BGD 1              1   \n",
       "1           1  7830063.0  19.0      F  BGD 1              0   \n",
       "2           2  7847538.0  18.0      M  BGD 1              1   \n",
       "3           3  8006429.0  18.0      M  BGD 1              1   \n",
       "4           4  7962680.0  18.0      F  BGD 1              1   \n",
       "\n",
       "   INTERNATIONAL_STS  STDNT_MAJOR STDNT_MINOR  entrance_1  ...  F_total_hrs  \\\n",
       "0                  0   Undeclared           N         0.0  ...         16.0   \n",
       "1                  0   Undeclared           N        26.0  ...         18.0   \n",
       "2                  0  Mathematics           N         0.0  ...         15.0   \n",
       "3                  0   Undeclared           N         0.0  ...         13.0   \n",
       "4                  0          Art           N         0.0  ...         12.0   \n",
       "\n",
       "   F_earned_hrs  S_total_hrs S_earned_hrs amt_std_need course_fee  \\\n",
       "0          16.0         14.0         14.0          0.0        0.0   \n",
       "1          18.0         18.0         18.0     570000.0  1355760.0   \n",
       "2          15.0         14.0         14.0          0.0        0.0   \n",
       "3          13.0         14.0         14.0          0.0        0.0   \n",
       "4          12.0         12.0         12.0     835920.0  1355760.0   \n",
       "\n",
       "  e_fmly_contrb unmet_std_need F_attained_perc S_attained_perc  \n",
       "0           0.0            0.0             1.0             1.0  \n",
       "1      785760.0       459300.0             1.0             1.0  \n",
       "2           0.0            0.0             1.0             1.0  \n",
       "3           0.0            0.0             1.0             1.0  \n",
       "4      519840.0       278340.0             1.0             1.0  \n",
       "\n",
       "[5 rows x 56 columns]"
      ]
     },
     "execution_count": 13,
     "metadata": {},
     "output_type": "execute_result"
    }
   ],
   "source": [
    "dt.head()"
   ]
  },
  {
   "cell_type": "code",
   "execution_count": 14,
   "metadata": {},
   "outputs": [],
   "source": [
    "dt[\"entrance_comb\"]=dt[\"entrance_comb\"].replace(997,0)"
   ]
  },
  {
   "cell_type": "code",
   "execution_count": 15,
   "metadata": {},
   "outputs": [],
   "source": [
    "dt1=dt.copy()"
   ]
  },
  {
   "cell_type": "markdown",
   "metadata": {},
   "source": [
    "#####  INTERACTION VARIABLE    ######\n",
    "\n",
    "1. unmet_percentage  =  unmet_std_need / course_fee\n",
    "2. F_attained_hrs    =  F_earned_hrs / F_total_hrs\n",
    "3. S_attained_hrs    =  S_earned_hrs / S_total_hrs\n",
    "4. funding           =  unmet_std_need != amt_std_need ----> is 1 , else 0."
   ]
  },
  {
   "cell_type": "code",
   "execution_count": 16,
   "metadata": {},
   "outputs": [],
   "source": [
    "# F_attained_perc is interaction varaible which is derived from the F_total_hrs and F_earned_hrs so i have droped those two varibles\n",
    "\n",
    "dt1=dt1.drop(\"F_total_hrs\",axis=1)"
   ]
  },
  {
   "cell_type": "code",
   "execution_count": 17,
   "metadata": {},
   "outputs": [],
   "source": [
    "dt1=dt1.drop(\"F_earned_hrs\",axis=1)"
   ]
  },
  {
   "cell_type": "code",
   "execution_count": 18,
   "metadata": {},
   "outputs": [],
   "source": [
    "#### S_attained_perc is interaction variable, so I droped those two variables\n",
    "\n",
    "dt1=dt1.drop(\"S_total_hrs\",axis=1)"
   ]
  },
  {
   "cell_type": "code",
   "execution_count": 19,
   "metadata": {},
   "outputs": [],
   "source": [
    "dt1=dt1.drop(\"S_earned_hrs\",axis=1)"
   ]
  },
  {
   "cell_type": "code",
   "execution_count": 20,
   "metadata": {},
   "outputs": [],
   "source": [
    "dt1=dt1.drop(\"Unnamed: 0\",axis=1)"
   ]
  },
  {
   "cell_type": "code",
   "execution_count": 21,
   "metadata": {},
   "outputs": [
    {
     "data": {
      "text/plain": [
       "(3399, 51)"
      ]
     },
     "execution_count": 21,
     "metadata": {},
     "output_type": "execute_result"
    }
   ],
   "source": [
    "dt1.shape"
   ]
  },
  {
   "cell_type": "code",
   "execution_count": 22,
   "metadata": {},
   "outputs": [],
   "source": [
    "a=(dt1[\"amt_std_need\"]==0)"
   ]
  },
  {
   "cell_type": "code",
   "execution_count": 23,
   "metadata": {},
   "outputs": [],
   "source": [
    "dt1.loc[a,\"unmet_std_need\"]=0"
   ]
  },
  {
   "cell_type": "code",
   "execution_count": 24,
   "metadata": {},
   "outputs": [],
   "source": [
    "## unmet_percentage (interaction variable)  ####\n",
    "\n",
    "dt1[\"unmet_percent\"]=dt1[\"unmet_std_need\"]/dt1[\"course_fee\"]"
   ]
  },
  {
   "cell_type": "code",
   "execution_count": 25,
   "metadata": {},
   "outputs": [
    {
     "data": {
      "text/plain": [
       "0         NaN\n",
       "1    0.338777\n",
       "2         NaN\n",
       "3         NaN\n",
       "4    0.205302\n",
       "Name: unmet_percent, dtype: float64"
      ]
     },
     "execution_count": 25,
     "metadata": {},
     "output_type": "execute_result"
    }
   ],
   "source": [
    "dt1[\"unmet_percent\"].head()"
   ]
  },
  {
   "cell_type": "code",
   "execution_count": 26,
   "metadata": {},
   "outputs": [],
   "source": [
    "dt1['unmet_percent']=dt1[\"unmet_percent\"].fillna(0)"
   ]
  },
  {
   "cell_type": "code",
   "execution_count": 27,
   "metadata": {},
   "outputs": [],
   "source": [
    "###  funding varaible (interaction variable)  ####\n",
    "\n",
    "dt1[\"funding\"]=dt1[\"unmet_std_need\"]!=dt1[\"amt_std_need\"] "
   ]
  },
  {
   "cell_type": "code",
   "execution_count": 28,
   "metadata": {},
   "outputs": [],
   "source": [
    "dt1[\"funding\"]=dt1[\"funding\"].astype('uint8')"
   ]
  },
  {
   "cell_type": "code",
   "execution_count": 29,
   "metadata": {},
   "outputs": [
    {
     "data": {
      "text/plain": [
       "0    2250\n",
       "1    1149\n",
       "Name: funding, dtype: int64"
      ]
     },
     "execution_count": 29,
     "metadata": {},
     "output_type": "execute_result"
    }
   ],
   "source": [
    "dt1[\"funding\"].value_counts()"
   ]
  },
  {
   "cell_type": "code",
   "execution_count": 30,
   "metadata": {},
   "outputs": [],
   "source": [
    "dt1[\"S_1_course\"]=dt1[\"S_1_course\"].str.replace(\"note\",\"not_elected\")"
   ]
  },
  {
   "cell_type": "code",
   "execution_count": 31,
   "metadata": {},
   "outputs": [],
   "source": [
    "dt1[\"S_2_course\"]=dt1[\"S_2_course\"].str.replace(\"note\",\"not_elected\")"
   ]
  },
  {
   "cell_type": "code",
   "execution_count": 32,
   "metadata": {},
   "outputs": [
    {
     "name": "stderr",
     "output_type": "stream",
     "text": [
      "C:\\Users\\hp\\Anaconda3\\lib\\site-packages\\ipykernel_launcher.py:1: FutureWarning: `Series.plot()` should not be called with positional arguments, only keyword arguments. The order of positional arguments will change in the future. Use `Series.plot(kind='hist')` instead of `Series.plot('hist',)`.\n",
      "  \"\"\"Entry point for launching an IPython kernel.\n"
     ]
    },
    {
     "data": {
      "text/plain": [
       "<matplotlib.axes._subplots.AxesSubplot at 0xa9bff10>"
      ]
     },
     "execution_count": 32,
     "metadata": {},
     "output_type": "execute_result"
    },
    {
     "data": {
      "image/png": "[encoded data removed]",
      "text/plain": [
       "<Figure size 432x288 with 1 Axes>"
      ]
     },
     "metadata": {
      "needs_background": "light"
     },
     "output_type": "display_data"
    }
   ],
   "source": [
    "\n",
    "dt1.funding.plot('hist', bins=20,  title='FUNDING STATUS')\n"
   ]
  },
  {
   "cell_type": "markdown",
   "metadata": {},
   "source": [
    "INSIGHTS : Interaction variable (Funding )\n",
    "    funding=1 ,when the student recieved some amount (from Govt or NGO's) which they need to pay the fee event if they recieve                some amount and not the full amount.\n",
    "               1149 students got fund.\n",
    "    funding=0, when the student didn't recieve any amount which they need to pay the fee\n",
    "               "
   ]
  },
  {
   "cell_type": "markdown",
   "metadata": {},
   "source": [
    "###  FEATURE IMPORTANCE  ##"
   ]
  },
  {
   "cell_type": "code",
   "execution_count": 33,
   "metadata": {},
   "outputs": [],
   "source": [
    "###  Going for Random Forest Classifier algorithm inorder to find the Feature_importances\n",
    "###  Feature_importances will help to find the varible which is contributing more to my target variables\n",
    "###  In this model my target variable is \"left\" i.e the student have left the course within one year  "
   ]
  },
  {
   "cell_type": "code",
   "execution_count": 34,
   "metadata": {},
   "outputs": [],
   "source": [
    "###   RANDOM FOREST CLASSIFIER   ###"
   ]
  },
  {
   "cell_type": "code",
   "execution_count": 35,
   "metadata": {},
   "outputs": [],
   "source": [
    "X=dt1.drop(\"left\",axis=1)"
   ]
  },
  {
   "cell_type": "code",
   "execution_count": 36,
   "metadata": {},
   "outputs": [],
   "source": [
    "X=pd.get_dummies(X)"
   ]
  },
  {
   "cell_type": "code",
   "execution_count": 37,
   "metadata": {},
   "outputs": [],
   "source": [
    "y=dt1[\"left\"]"
   ]
  },
  {
   "cell_type": "code",
   "execution_count": 38,
   "metadata": {},
   "outputs": [],
   "source": [
    "from sklearn.ensemble import RandomForestClassifier"
   ]
  },
  {
   "cell_type": "code",
   "execution_count": 39,
   "metadata": {},
   "outputs": [],
   "source": [
    "X_train,X_test,y_train,y_test=model_selection.train_test_split(X,y,test_size=0.20,random_state=200)"
   ]
  },
  {
   "cell_type": "code",
   "execution_count": 40,
   "metadata": {},
   "outputs": [],
   "source": [
    "rf_model=RandomForestClassifier(oob_score=True,n_jobs=-1,n_estimators=110,random_state=200)"
   ]
  },
  {
   "cell_type": "code",
   "execution_count": 41,
   "metadata": {},
   "outputs": [],
   "source": [
    "rf_model=rf_model.fit(X_train,y_train)"
   ]
  },
  {
   "cell_type": "code",
   "execution_count": 42,
   "metadata": {},
   "outputs": [
    {
     "data": {
      "text/plain": [
       "array([2.28927686e-02, 6.66139240e-03, 3.20514250e-03, 1.83048185e-03,\n",
       "       1.07383628e-02, 1.65547548e-02, 1.57975073e-02, 1.10967571e-02,\n",
       "       1.19117217e-02, 1.51008220e-02, 2.20508404e-02, 9.55901058e-03,\n",
       "       1.31203847e-02, 1.10208006e-02, 1.00164989e-02, 1.41306463e-02,\n",
       "       1.66639929e-02, 1.24881016e-02, 3.85329453e-03, 4.99274015e-03,\n",
       "       4.36416099e-03, 4.87094749e-03, 1.19646457e-03, 4.85024217e-03,\n",
       "       2.27155393e-03, 4.45674772e-04, 1.02894310e-03, 6.71259989e-04,\n",
       "       3.71413433e-05, 9.88247778e-04, 5.10137794e-04, 1.72271115e-03,\n",
       "       2.27317111e-04, 2.90247274e-03, 5.81215783e-04, 8.53781972e-04,\n",
       "       0.00000000e+00, 1.15128126e-03, 1.21449837e-03, 3.93661615e-04,\n",
       "       1.64130618e-03, 2.32059363e-04, 1.59843908e-03, 4.56406584e-04,\n",
       "       1.13725697e-03, 8.77840495e-04, 5.68961162e-04, 1.59475140e-03,\n",
       "       7.36215131e-04, 6.25528731e-05, 3.03151967e-04, 1.18120711e-03,\n",
       "       5.79473301e-04, 3.27381452e-06, 3.20062335e-04, 6.71209405e-04,\n",
       "       5.82789954e-04, 4.62546074e-04, 7.73729665e-04, 5.00583428e-04,\n",
       "       1.63926536e-06, 8.25545856e-04, 4.12810787e-04, 1.33949918e-03,\n",
       "       6.47606945e-04, 9.83706162e-05, 2.65030142e-04, 8.65579737e-04,\n",
       "       2.31188803e-03, 1.11364542e-03, 1.76210068e-03, 7.19048099e-04,\n",
       "       1.82571629e-03, 4.66106235e-04, 2.68825224e-03, 2.30744330e-03,\n",
       "       4.80983542e-04, 2.23029199e-05, 3.93858541e-04, 4.42050150e-04,\n",
       "       1.56574694e-03, 5.07205329e-04, 3.52362470e-03, 2.64927721e-04,\n",
       "       1.82606701e-04, 0.00000000e+00, 1.86251222e-04, 4.57934903e-04,\n",
       "       2.73402942e-05, 3.96973524e-04, 6.68429688e-06, 1.89494501e-04,\n",
       "       1.83599163e-05, 1.51202786e-04, 1.16060879e-06, 3.89898275e-04,\n",
       "       3.31091399e-05, 5.76418383e-04, 5.91551889e-04, 0.00000000e+00,\n",
       "       2.69404306e-05, 1.49876360e-04, 4.94077518e-04, 1.04311090e-05,\n",
       "       3.06030975e-04, 0.00000000e+00, 0.00000000e+00, 1.26930765e-04,\n",
       "       1.66703462e-05, 4.73483265e-06, 6.71834487e-05, 1.60577241e-03,\n",
       "       3.41132353e-05, 1.64328055e-04, 1.63917986e-05, 5.14979153e-04,\n",
       "       4.52304830e-04, 2.42477283e-04, 5.54610546e-04, 1.60864864e-04,\n",
       "       7.28819599e-04, 0.00000000e+00, 2.61459022e-03, 1.03676752e-04,\n",
       "       1.62499375e-03, 3.23938470e-03, 2.53478857e-03, 1.91867704e-03,\n",
       "       2.85149464e-03, 4.13065219e-03, 6.33567025e-04, 5.06764715e-04,\n",
       "       3.05554550e-04, 3.98385493e-04, 5.64579679e-04, 3.85635380e-03,\n",
       "       5.52817439e-04, 1.38663689e-04, 2.45806589e-03, 9.57067290e-04,\n",
       "       2.34403179e-04, 1.58294871e-03, 2.15814150e-03, 3.20400318e-04,\n",
       "       5.74425090e-04, 3.32990920e-04, 4.96481155e-04, 2.11179146e-03,\n",
       "       5.07342910e-03, 3.92999621e-03, 3.84886085e-03, 5.34047422e-03,\n",
       "       6.97750763e-04, 1.22494618e-03, 5.83827029e-04, 1.75618846e-03,\n",
       "       2.47187184e-04, 9.08866210e-04, 2.37929524e-03, 3.03841182e-03,\n",
       "       1.07397957e-03, 1.24500567e-03, 3.88592271e-03, 4.17181258e-04,\n",
       "       6.51396461e-04, 1.97786432e-04, 3.38443799e-04, 0.00000000e+00,\n",
       "       3.39041766e-03, 7.79302156e-04, 2.04607366e-04, 2.75804582e-04,\n",
       "       2.82513311e-03, 1.68276665e-03, 4.20793695e-05, 2.97153426e-03,\n",
       "       1.23361624e-03, 4.83075484e-04, 1.06052123e-03, 5.46382572e-06,\n",
       "       1.63830629e-03, 1.35431630e-03, 3.26442425e-03, 4.68395922e-03,\n",
       "       5.15476337e-03, 2.93616847e-03, 2.72393441e-03, 1.08175145e-04,\n",
       "       8.32528336e-06, 1.32873308e-03, 2.34867252e-03, 2.06158410e-03,\n",
       "       4.91958941e-07, 9.83407918e-04, 2.80380554e-03, 1.24325353e-03,\n",
       "       8.96746988e-04, 1.32116549e-03, 4.66540536e-03, 4.69499578e-04,\n",
       "       1.91580454e-04, 3.13701648e-05, 3.94053314e-04, 3.20310710e-03,\n",
       "       1.11748093e-03, 2.62742808e-05, 1.82258454e-04, 5.62272315e-04,\n",
       "       2.49660544e-03, 1.63515912e-03, 1.56346542e-04, 1.51589239e-03,\n",
       "       1.42109399e-03, 6.06166313e-04, 1.59495312e-03, 1.90168351e-04,\n",
       "       1.01010659e-03, 2.86432052e-03, 4.04535988e-03, 4.98672006e-03,\n",
       "       3.18653040e-03, 1.58879433e-03, 1.70574021e-03, 1.00380034e-05,\n",
       "       3.23813863e-03, 1.18298635e-05, 4.80703126e-04, 8.84415110e-07,\n",
       "       2.55713744e-04, 1.52184759e-03, 1.76178936e-03, 1.09086471e-03,\n",
       "       9.46782673e-04, 2.80080842e-03, 0.00000000e+00, 3.43740255e-04,\n",
       "       3.45386369e-06, 3.43516961e-04, 0.00000000e+00, 1.33801133e-03,\n",
       "       1.91849161e-03, 3.71961394e-05, 4.36960895e-04, 1.95688394e-03,\n",
       "       1.87520801e-03, 2.10317301e-04, 1.32593171e-03, 9.08267294e-04,\n",
       "       1.82353112e-03, 1.22453659e-03, 3.95688075e-04, 8.04658904e-04,\n",
       "       4.29267072e-03, 4.10450215e-03, 2.94893811e-03, 1.36207817e-03,\n",
       "       2.92838095e-03, 8.95007729e-05, 0.00000000e+00, 3.67520930e-03,\n",
       "       9.42178143e-04, 2.41345375e-04, 1.05282923e-03, 1.14828328e-03,\n",
       "       3.03546180e-04, 2.44440569e-04, 8.95291605e-04, 0.00000000e+00,\n",
       "       0.00000000e+00, 0.00000000e+00, 5.54154634e-04, 1.43510817e-03,\n",
       "       0.00000000e+00, 9.76220260e-05, 5.12162067e-07, 7.46754230e-04,\n",
       "       3.23130133e-04, 2.02276235e-06, 3.49561735e-04, 5.91261719e-04,\n",
       "       4.65392547e-05, 1.19012444e-03, 4.44093971e-05, 1.34290039e-04,\n",
       "       2.32034978e-03, 2.32316569e-03, 1.17671339e-03, 9.35393095e-04,\n",
       "       8.77689325e-05, 2.93832697e-03, 4.82310782e-04, 0.00000000e+00,\n",
       "       0.00000000e+00, 7.75242442e-04, 0.00000000e+00, 3.06045255e-04,\n",
       "       4.89874940e-04, 5.15227776e-05, 8.63365171e-04, 1.32076009e-04,\n",
       "       3.60296882e-04, 5.77820743e-04, 4.96719478e-07, 2.55506991e-05,\n",
       "       0.00000000e+00, 0.00000000e+00, 1.12395754e-03, 1.17025950e-03,\n",
       "       9.01892790e-05, 2.89112043e-05, 0.00000000e+00, 8.66529647e-04,\n",
       "       8.01327174e-04, 2.08564762e-03, 1.53243987e-04, 1.47190757e-03,\n",
       "       1.36960936e-03, 2.06554115e-03, 1.21253059e-03, 2.45222512e-03,\n",
       "       6.68464502e-03, 9.69240616e-04, 1.78020557e-04, 8.79671613e-04,\n",
       "       9.46665206e-04, 4.45101525e-03, 8.45693959e-04, 2.72088482e-03,\n",
       "       1.01214451e-03, 7.61116970e-06, 2.50829252e-03, 1.34161199e-03,\n",
       "       3.51710117e-04, 8.88431708e-04, 2.56684607e-04, 4.14926321e-04,\n",
       "       1.98332857e-02, 4.10325528e-03, 8.96288948e-03, 4.86349046e-03,\n",
       "       4.02959013e-03, 5.15347059e-03, 1.47971402e-03, 3.68171758e-04,\n",
       "       4.96605570e-02, 1.12230537e-03, 1.14245018e-03, 1.55745077e-03,\n",
       "       4.31584508e-04, 9.85577336e-04, 1.44109180e-03, 1.53823780e-03,\n",
       "       2.29325182e-04, 1.28120790e-03, 4.33784228e-03, 1.07802957e-03,\n",
       "       5.85001526e-04, 9.62869520e-06, 6.16004277e-04, 2.73594370e-03,\n",
       "       8.03275288e-04, 9.65193538e-06, 3.43777345e-04, 3.13416444e-03,\n",
       "       1.27299473e-03, 1.95488396e-04, 1.32927149e-03, 1.91337472e-03,\n",
       "       5.62227636e-04, 5.31271111e-04, 4.73388401e-04, 2.99097638e-04,\n",
       "       1.60429677e-02, 4.17323125e-03, 7.65375247e-03, 3.89100281e-03,\n",
       "       3.37774097e-03, 5.20593380e-03, 1.31370001e-05, 1.56776485e-02,\n",
       "       4.50043353e-04, 4.74871505e-04, 0.00000000e+00, 4.16809187e-04,\n",
       "       1.02481451e-03, 1.31989674e-03, 8.38198725e-04, 9.96729045e-04,\n",
       "       3.52024096e-03, 6.32219632e-04, 3.17896226e-04, 1.56893473e-04,\n",
       "       1.02776268e-03, 1.84785379e-03, 1.95489079e-03, 4.02387959e-05,\n",
       "       2.10178692e-03, 1.10536438e-03, 0.00000000e+00, 2.59003134e-03,\n",
       "       1.44393240e-03, 1.45382264e-03, 9.57681637e-04, 1.13726463e-04,\n",
       "       1.59277583e-03, 6.11382237e-03, 4.32275932e-03, 4.23382971e-03,\n",
       "       2.86280796e-03, 1.61062812e-03, 1.92930135e-03, 0.00000000e+00,\n",
       "       4.22865732e-03, 2.41872183e-04, 1.87602204e-04, 0.00000000e+00,\n",
       "       4.86807805e-04, 8.60707416e-04, 5.92274237e-04, 8.02463200e-04,\n",
       "       6.47381740e-04, 1.73247114e-03, 1.93484941e-04, 3.39295661e-04,\n",
       "       0.00000000e+00, 1.70645703e-04, 1.32823275e-03, 1.56724036e-03,\n",
       "       2.53237753e-05, 1.38690508e-03, 1.19541082e-03, 4.90160802e-06,\n",
       "       1.27117103e-03, 4.34818675e-04, 1.05039173e-04, 9.48523472e-04,\n",
       "       1.43075996e-03, 5.81967672e-04, 3.35902310e-03, 3.18634913e-03,\n",
       "       2.25785090e-03, 1.43455542e-03, 1.64232279e-03, 1.81681280e-04,\n",
       "       3.26880061e-03, 1.58204211e-05, 1.67620849e-04, 1.00315024e-03,\n",
       "       4.40159640e-04, 3.33317389e-05, 3.51578104e-04, 3.84478467e-04,\n",
       "       0.00000000e+00, 1.61006038e-04, 5.52585687e-04, 2.27323946e-04,\n",
       "       5.44907547e-04, 6.58258268e-05, 6.35741268e-04, 2.54583351e-04,\n",
       "       0.00000000e+00, 4.22301972e-04, 1.84127288e-04, 1.86175160e-04,\n",
       "       4.62084567e-04, 0.00000000e+00, 8.34570310e-04, 1.90242458e-03,\n",
       "       1.47338691e-03, 1.06890833e-03, 2.76430639e-04, 1.82532147e-04,\n",
       "       0.00000000e+00, 1.83448060e-03, 0.00000000e+00, 3.26933891e-04,\n",
       "       1.01623495e-04, 5.94254350e-04, 4.74426214e-04, 5.15284814e-05,\n",
       "       0.00000000e+00, 1.54223360e-06, 0.00000000e+00, 2.41793102e-04,\n",
       "       5.70023078e-06, 0.00000000e+00, 2.54185307e-04, 0.00000000e+00,\n",
       "       2.58913581e-06, 6.29228061e-04, 6.27714284e-04, 2.70057873e-04,\n",
       "       1.01819128e-05, 5.45702682e-04, 4.29170029e-03, 4.91807986e-03,\n",
       "       2.60976653e-03, 1.93158040e-03, 5.42511654e-05, 0.00000000e+00,\n",
       "       1.97900632e-05, 1.56613040e-04, 3.07914415e-04, 1.46192374e-04,\n",
       "       4.04514296e-05, 6.23061009e-04, 1.46186751e-04, 2.45281888e-04,\n",
       "       2.81592097e-03, 1.22886111e-03, 0.00000000e+00, 0.00000000e+00,\n",
       "       0.00000000e+00, 1.04142905e-05, 3.41732886e-04, 1.39255041e-04,\n",
       "       0.00000000e+00, 5.61358488e-05, 6.28882015e-04, 7.40278651e-04,\n",
       "       0.00000000e+00, 4.21678861e-04, 3.39265477e-04, 3.25340476e-04,\n",
       "       0.00000000e+00, 8.27037255e-04, 5.09064981e-05, 1.35245773e-03,\n",
       "       2.83569875e-04, 2.41001646e-03, 1.60360764e-05, 5.16529661e-04,\n",
       "       9.25407669e-04, 0.00000000e+00, 8.34344800e-05, 3.62797250e-04,\n",
       "       1.31130887e-03, 4.08929321e-04, 3.04460240e-05, 1.71670127e-03,\n",
       "       3.43762289e-04, 8.04176322e-04, 3.09298923e-05, 1.01026615e-05,\n",
       "       2.02316460e-04, 3.75863643e-07, 1.74646784e-05, 3.34306044e-04,\n",
       "       0.00000000e+00, 3.21669286e-04, 4.72884221e-05, 8.88875592e-04,\n",
       "       2.97168448e-05, 1.32976245e-03, 0.00000000e+00, 2.80775609e-05,\n",
       "       9.23353447e-05, 5.64391334e-04, 1.00604234e-03, 1.73801277e-03,\n",
       "       6.76741414e-04, 5.28167066e-05, 1.50223661e-05, 0.00000000e+00,\n",
       "       5.28484096e-05, 0.00000000e+00, 2.30278749e-05, 1.67015311e-03,\n",
       "       1.84579677e-05, 5.54906959e-04, 2.01565359e-04, 0.00000000e+00,\n",
       "       4.24601237e-04, 7.99801274e-08, 0.00000000e+00, 2.64403336e-04,\n",
       "       3.78166883e-04, 3.07205288e-04, 2.03439203e-05, 0.00000000e+00,\n",
       "       5.73577827e-04, 0.00000000e+00, 0.00000000e+00, 0.00000000e+00,\n",
       "       6.36818745e-04, 2.17838683e-04, 0.00000000e+00, 5.66510752e-04,\n",
       "       0.00000000e+00, 0.00000000e+00, 2.58266265e-05, 0.00000000e+00,\n",
       "       0.00000000e+00, 0.00000000e+00, 0.00000000e+00, 1.09276847e-03,\n",
       "       2.92056384e-05, 3.80019223e-04, 0.00000000e+00, 0.00000000e+00,\n",
       "       0.00000000e+00, 1.73783545e-05, 9.88776316e-06, 1.30392852e-05,\n",
       "       3.15613620e-05, 2.53697949e-04, 2.09912818e-04, 0.00000000e+00,\n",
       "       5.13151551e-06, 3.55194343e-04, 6.06299701e-05, 4.34621957e-04,\n",
       "       0.00000000e+00, 1.44817616e-03, 4.07629484e-05, 4.32352391e-04,\n",
       "       0.00000000e+00, 2.37118908e-04, 1.51731808e-04, 6.58610424e-05,\n",
       "       2.65221433e-04, 2.62135093e-04, 2.35511637e-05, 0.00000000e+00,\n",
       "       0.00000000e+00, 2.40984140e-05, 0.00000000e+00, 1.27762526e-05,\n",
       "       1.96230412e-04, 0.00000000e+00, 0.00000000e+00, 4.62904300e-04,\n",
       "       3.72075160e-05, 2.24807378e-04, 2.36882689e-05, 0.00000000e+00,\n",
       "       1.04358525e-04, 9.23756755e-06, 7.14083649e-05, 1.57983605e-06,\n",
       "       2.43259089e-04, 0.00000000e+00, 4.92317314e-05, 0.00000000e+00,\n",
       "       5.67580036e-05, 4.83222267e-04, 1.07921743e-04, 0.00000000e+00,\n",
       "       0.00000000e+00, 2.76125383e-04, 1.28456498e-04, 3.67131467e-04,\n",
       "       1.13404935e-04, 6.48832483e-07, 6.69649884e-04, 0.00000000e+00,\n",
       "       1.34355323e-05, 1.12471911e-03, 0.00000000e+00, 2.62422055e-04,\n",
       "       1.59048910e-05, 8.64781716e-07, 3.48644552e-05, 0.00000000e+00,\n",
       "       3.74309190e-04, 5.00624243e-06, 1.33840045e-05, 7.87307069e-04,\n",
       "       1.34293396e-05, 2.53003880e-06, 0.00000000e+00, 0.00000000e+00,\n",
       "       0.00000000e+00, 0.00000000e+00, 1.19045749e-04, 0.00000000e+00,\n",
       "       3.92150993e-04, 0.00000000e+00, 0.00000000e+00, 0.00000000e+00,\n",
       "       0.00000000e+00, 6.08501952e-04, 0.00000000e+00, 0.00000000e+00,\n",
       "       4.37922492e-05, 3.93610979e-04, 1.30606105e-04, 7.61879107e-04,\n",
       "       0.00000000e+00, 2.37380374e-05, 6.13129979e-06, 6.34600784e-08,\n",
       "       9.73096686e-05, 8.77447479e-05, 2.98673901e-06, 1.37000633e-05,\n",
       "       0.00000000e+00, 6.77019411e-06, 6.66466450e-04, 1.20741542e-06,\n",
       "       4.49564563e-05, 1.04372836e-04, 1.29286887e-04, 0.00000000e+00,\n",
       "       2.39385599e-05, 1.00380034e-05, 2.01946186e-04, 0.00000000e+00,\n",
       "       4.51148985e-04, 1.55954318e-05, 2.57562618e-05, 0.00000000e+00,\n",
       "       3.45831794e-04, 0.00000000e+00, 5.39332704e-05, 0.00000000e+00,\n",
       "       0.00000000e+00, 4.24482278e-04, 2.61699647e-05, 3.73230552e-04,\n",
       "       2.13574540e-05, 1.62117594e-03, 0.00000000e+00, 2.44031813e-05,\n",
       "       0.00000000e+00, 0.00000000e+00, 8.90633561e-05, 0.00000000e+00,\n",
       "       0.00000000e+00, 0.00000000e+00, 0.00000000e+00, 2.56042693e-04,\n",
       "       6.68347983e-06, 2.00249697e-06, 0.00000000e+00, 1.57447448e-07,\n",
       "       3.48924400e-05, 4.70059277e-04, 0.00000000e+00, 3.40014335e-06,\n",
       "       2.13779390e-05, 1.35763487e-05, 0.00000000e+00, 1.52935975e-05,\n",
       "       0.00000000e+00, 2.04009631e-04, 1.15686503e-04, 9.30409816e-05,\n",
       "       1.61117202e-04, 3.34220470e-04, 2.41178668e-04, 1.27319221e-04,\n",
       "       7.21203597e-05, 2.08785813e-04, 8.79417459e-05, 2.96203578e-04,\n",
       "       2.65114949e-04, 1.38445762e-04, 0.00000000e+00, 0.00000000e+00,\n",
       "       1.47587682e-05, 0.00000000e+00, 0.00000000e+00, 0.00000000e+00,\n",
       "       1.94646234e-04, 1.21442607e-04, 1.40064920e-04, 1.14462376e-03,\n",
       "       7.15318309e-06, 0.00000000e+00, 3.58176098e-05, 0.00000000e+00,\n",
       "       5.55244421e-05, 8.96737239e-05, 0.00000000e+00, 0.00000000e+00,\n",
       "       4.59410847e-04, 2.35850042e-05, 1.23654418e-04, 3.65638861e-06,\n",
       "       2.05961536e-05, 0.00000000e+00, 5.14113833e-07, 2.91361503e-05,\n",
       "       0.00000000e+00, 0.00000000e+00, 0.00000000e+00, 0.00000000e+00,\n",
       "       5.60044036e-04, 0.00000000e+00, 2.44739460e-04, 1.68872969e-05,\n",
       "       0.00000000e+00, 0.00000000e+00, 0.00000000e+00, 3.28139908e-05,\n",
       "       2.04197779e-05, 1.77613702e-05, 3.27750905e-05, 0.00000000e+00,\n",
       "       3.64542167e-04, 2.45575315e-05, 8.37691882e-09, 0.00000000e+00,\n",
       "       0.00000000e+00, 1.70088664e-04, 0.00000000e+00, 1.50661507e-05,\n",
       "       6.07947362e-04, 5.67791229e-04, 0.00000000e+00, 1.99305507e-04,\n",
       "       0.00000000e+00, 8.37407290e-05, 2.40686562e-05, 8.96932515e-06,\n",
       "       1.57426861e-05, 1.67606372e-05, 1.54466367e-05, 0.00000000e+00,\n",
       "       0.00000000e+00, 1.41230225e-05, 7.33974407e-04, 0.00000000e+00,\n",
       "       2.31660733e-05, 6.39169651e-06, 0.00000000e+00, 0.00000000e+00,\n",
       "       1.63386934e-06, 2.71511639e-05, 0.00000000e+00, 0.00000000e+00,\n",
       "       2.62359565e-04, 0.00000000e+00, 1.11674194e-04, 2.56772585e-04,\n",
       "       1.10318453e-04, 2.64953534e-04, 1.57800190e-04, 2.03751687e-04,\n",
       "       5.45933817e-04, 3.19114421e-07, 0.00000000e+00, 4.27008479e-06,\n",
       "       9.70925928e-06, 4.31074821e-04, 0.00000000e+00, 0.00000000e+00,\n",
       "       2.46650908e-05, 3.57534180e-04, 0.00000000e+00, 0.00000000e+00,\n",
       "       0.00000000e+00, 1.39571808e-05, 0.00000000e+00, 0.00000000e+00,\n",
       "       0.00000000e+00, 0.00000000e+00, 0.00000000e+00, 1.27078209e-03,\n",
       "       1.48033327e-03, 2.44610209e-04, 0.00000000e+00, 0.00000000e+00,\n",
       "       3.37329407e-04, 4.76525522e-04, 5.43888921e-06, 3.28066129e-05,\n",
       "       1.68696225e-05, 0.00000000e+00, 2.31428091e-04, 0.00000000e+00,\n",
       "       0.00000000e+00, 0.00000000e+00, 5.36850873e-07, 2.58688338e-05,\n",
       "       7.74209372e-04, 0.00000000e+00, 1.80674279e-07, 0.00000000e+00,\n",
       "       3.75283635e-04, 0.00000000e+00, 2.38192436e-05, 0.00000000e+00,\n",
       "       0.00000000e+00, 2.63615623e-05, 0.00000000e+00, 1.01819128e-05,\n",
       "       9.06929539e-04, 5.34271088e-04, 0.00000000e+00, 2.64438020e-04,\n",
       "       3.59670857e-06, 1.86796847e-05, 2.15919489e-04, 0.00000000e+00,\n",
       "       1.28395150e-04, 0.00000000e+00, 4.78713612e-04, 1.98529768e-04,\n",
       "       4.38207337e-04, 7.62212703e-04, 5.05133073e-06, 3.58889777e-04,\n",
       "       6.58244287e-04, 1.00703471e-03, 3.35457263e-06, 3.19068828e-04,\n",
       "       1.79145835e-06, 5.03818960e-04, 2.99996664e-04, 0.00000000e+00,\n",
       "       3.61625338e-04, 0.00000000e+00, 1.00199308e-03, 0.00000000e+00,\n",
       "       0.00000000e+00, 2.01037743e-04, 2.04024091e-05, 2.94258500e-04,\n",
       "       4.77879591e-04, 0.00000000e+00, 4.50956130e-04, 1.22426042e-05,\n",
       "       3.45420509e-05, 1.05251260e-03, 7.48500936e-06, 8.68308320e-04,\n",
       "       0.00000000e+00, 5.22700836e-04, 0.00000000e+00, 2.15984408e-04,\n",
       "       2.53506389e-05, 4.17798350e-04, 2.31765007e-04, 4.69728869e-03,\n",
       "       4.98445129e-03, 1.84554199e-03, 4.10127516e-03, 5.13214379e-03,\n",
       "       4.31788239e-03, 7.54869460e-04, 4.17967269e-03, 2.98338887e-04,\n",
       "       3.72561944e-04, 1.70030473e-04])"
      ]
     },
     "execution_count": 42,
     "metadata": {},
     "output_type": "execute_result"
    }
   ],
   "source": [
    "rf_model.feature_importances_"
   ]
  },
  {
   "cell_type": "code",
   "execution_count": 43,
   "metadata": {},
   "outputs": [],
   "source": [
    "f_imp=pd.Series(rf_model.feature_importances_,index=X.columns)"
   ]
  },
  {
   "cell_type": "code",
   "execution_count": 44,
   "metadata": {},
   "outputs": [
    {
     "data": {
      "text/plain": [
       "S_1_grade_UD                 0.049661\n",
       "id                           0.022893\n",
       "HIGH_SCHL_GPA                0.022051\n",
       "S_1_course_not_elected       0.019833\n",
       "S_attained_perc              0.016664\n",
       "                               ...   \n",
       "HIGH_SCHL_NAME_SCHOOL 324    0.000000\n",
       "HIGH_SCHL_NAME_SCHOOL 329    0.000000\n",
       "HIGH_SCHL_NAME_SCHOOL 332    0.000000\n",
       "HIGH_SCHL_NAME_SCHOOL 334    0.000000\n",
       "S_5_grade_F                  0.000000\n",
       "Length: 946, dtype: float64"
      ]
     },
     "execution_count": 44,
     "metadata": {},
     "output_type": "execute_result"
    }
   ],
   "source": [
    "f_imp.sort_values(ascending=False)"
   ]
  },
  {
   "cell_type": "code",
   "execution_count": 45,
   "metadata": {},
   "outputs": [
    {
     "name": "stdout",
     "output_type": "stream",
     "text": [
      "n_estimators is   230\n",
      "the score is   0.8205882352941176\n",
      "n_estimators is   240\n",
      "the score is   0.8205882352941176\n",
      "n_estimators is   250\n",
      "the score is   0.8205882352941176\n",
      "n_estimators is   260\n",
      "the score is   0.8205882352941176\n",
      "n_estimators is   270\n",
      "the score is   0.8205882352941176\n",
      "n_estimators is   280\n",
      "the score is   0.8205882352941176\n",
      "n_estimators is   290\n",
      "the score is   0.8191176470588235\n",
      "n_estimators is   300\n",
      "the score is   0.8205882352941176\n",
      "n_estimators is   310\n",
      "the score is   0.8191176470588235\n",
      "n_estimators is   320\n",
      "the score is   0.8191176470588235\n",
      "n_estimators is   330\n",
      "the score is   0.8191176470588235\n",
      "n_estimators is   340\n",
      "the score is   0.8191176470588235\n"
     ]
    }
   ],
   "source": [
    "for w in range (230,350,10):\n",
    "    rf_model1=RandomForestClassifier(n_estimators=w,random_state=200)\n",
    "    rf_model1=rf_model1.fit(X_train,y_train)\n",
    "    score=rf_model1.score(X_test,y_test)\n",
    "    print(\"n_estimators is   \" +str(w))\n",
    "    print(\"the score is   \" +str(score))"
   ]
  },
  {
   "cell_type": "code",
   "execution_count": 46,
   "metadata": {},
   "outputs": [],
   "source": [
    "###  n_estimators = 300 which gave better oob_score when compared to other range of no's\n",
    "\n",
    "rf_model2=RandomForestClassifier(oob_score=True,n_jobs=-1,n_estimators=300,random_state=200)"
   ]
  },
  {
   "cell_type": "code",
   "execution_count": 47,
   "metadata": {},
   "outputs": [],
   "source": [
    "rf_model2=rf_model2.fit(X_train,y_train)"
   ]
  },
  {
   "cell_type": "code",
   "execution_count": 48,
   "metadata": {},
   "outputs": [
    {
     "data": {
      "text/plain": [
       "0.8333946303788158"
      ]
     },
     "execution_count": 48,
     "metadata": {},
     "output_type": "execute_result"
    }
   ],
   "source": [
    "rf_model2.oob_score_"
   ]
  },
  {
   "cell_type": "code",
   "execution_count": 49,
   "metadata": {},
   "outputs": [],
   "source": [
    "rf_pred=rf_model2.predict(X_test)"
   ]
  },
  {
   "cell_type": "code",
   "execution_count": 50,
   "metadata": {},
   "outputs": [
    {
     "data": {
      "text/plain": [
       "array([[526,   7],\n",
       "       [115,  32]], dtype=int64)"
      ]
     },
     "execution_count": 50,
     "metadata": {},
     "output_type": "execute_result"
    }
   ],
   "source": [
    "metrics.confusion_matrix(y_test,rf_pred)"
   ]
  },
  {
   "cell_type": "code",
   "execution_count": 51,
   "metadata": {},
   "outputs": [
    {
     "data": {
      "text/plain": [
       "0.6022769332873863"
      ]
     },
     "execution_count": 51,
     "metadata": {},
     "output_type": "execute_result"
    }
   ],
   "source": [
    "metrics.roc_auc_score(y_test,rf_pred)"
   ]
  },
  {
   "cell_type": "code",
   "execution_count": 52,
   "metadata": {},
   "outputs": [
    {
     "data": {
      "text/plain": [
       "0.8205882352941176"
      ]
     },
     "execution_count": 52,
     "metadata": {},
     "output_type": "execute_result"
    }
   ],
   "source": [
    "metrics.accuracy_score(y_test,rf_pred)"
   ]
  },
  {
   "cell_type": "code",
   "execution_count": 53,
   "metadata": {},
   "outputs": [],
   "source": [
    "f_imp1=pd.Series(rf_model2.feature_importances_,index=X.columns)"
   ]
  },
  {
   "cell_type": "code",
   "execution_count": 54,
   "metadata": {},
   "outputs": [],
   "source": [
    "###  Feature importances have found, i have took top 20 variables which is impacting more on my target varaible(left)\n",
    "\n",
    "f_imp2=f_imp1.sort_values(ascending=False).head(20)"
   ]
  },
  {
   "cell_type": "code",
   "execution_count": 55,
   "metadata": {},
   "outputs": [
    {
     "data": {
      "text/html": [
       "<div>\n",
       "<style scoped>\n",
       "    .dataframe tbody tr th:only-of-type {\n",
       "        vertical-align: middle;\n",
       "    }\n",
       "\n",
       "    .dataframe tbody tr th {\n",
       "        vertical-align: top;\n",
       "    }\n",
       "\n",
       "    .dataframe thead th {\n",
       "        text-align: right;\n",
       "    }\n",
       "</style>\n",
       "<table border=\"1\" class=\"dataframe\">\n",
       "  <thead>\n",
       "    <tr style=\"text-align: right;\">\n",
       "      <th></th>\n",
       "      <th>0</th>\n",
       "    </tr>\n",
       "  </thead>\n",
       "  <tbody>\n",
       "    <tr>\n",
       "      <td>S_1_grade_UD</td>\n",
       "      <td>0.043881</td>\n",
       "    </tr>\n",
       "    <tr>\n",
       "      <td>S_1_course_not_elected</td>\n",
       "      <td>0.023512</td>\n",
       "    </tr>\n",
       "    <tr>\n",
       "      <td>id</td>\n",
       "      <td>0.023509</td>\n",
       "    </tr>\n",
       "    <tr>\n",
       "      <td>HIGH_SCHL_GPA</td>\n",
       "      <td>0.021682</td>\n",
       "    </tr>\n",
       "    <tr>\n",
       "      <td>entrance_2</td>\n",
       "      <td>0.017233</td>\n",
       "    </tr>\n",
       "    <tr>\n",
       "      <td>S_attained_perc</td>\n",
       "      <td>0.016921</td>\n",
       "    </tr>\n",
       "    <tr>\n",
       "      <td>entrance_comb</td>\n",
       "      <td>0.016501</td>\n",
       "    </tr>\n",
       "    <tr>\n",
       "      <td>S_2_grade_UD</td>\n",
       "      <td>0.015094</td>\n",
       "    </tr>\n",
       "    <tr>\n",
       "      <td>DISTANCE_FROM_HOME</td>\n",
       "      <td>0.015088</td>\n",
       "    </tr>\n",
       "    <tr>\n",
       "      <td>S_2_course_not_elected</td>\n",
       "      <td>0.014891</td>\n",
       "    </tr>\n",
       "    <tr>\n",
       "      <td>F_attained_perc</td>\n",
       "      <td>0.013570</td>\n",
       "    </tr>\n",
       "    <tr>\n",
       "      <td>course_fee</td>\n",
       "      <td>0.012798</td>\n",
       "    </tr>\n",
       "    <tr>\n",
       "      <td>unmet_percent</td>\n",
       "      <td>0.012089</td>\n",
       "    </tr>\n",
       "    <tr>\n",
       "      <td>SECOND_TERM</td>\n",
       "      <td>0.011891</td>\n",
       "    </tr>\n",
       "    <tr>\n",
       "      <td>FIRST_TERM</td>\n",
       "      <td>0.011560</td>\n",
       "    </tr>\n",
       "    <tr>\n",
       "      <td>e_fmly_contrb</td>\n",
       "      <td>0.011461</td>\n",
       "    </tr>\n",
       "    <tr>\n",
       "      <td>entrance_1</td>\n",
       "      <td>0.010721</td>\n",
       "    </tr>\n",
       "    <tr>\n",
       "      <td>unmet_std_need</td>\n",
       "      <td>0.010142</td>\n",
       "    </tr>\n",
       "    <tr>\n",
       "      <td>amt_std_need</td>\n",
       "      <td>0.009193</td>\n",
       "    </tr>\n",
       "    <tr>\n",
       "      <td>S_1_grade_B</td>\n",
       "      <td>0.008280</td>\n",
       "    </tr>\n",
       "  </tbody>\n",
       "</table>\n",
       "</div>"
      ],
      "text/plain": [
       "                               0\n",
       "S_1_grade_UD            0.043881\n",
       "S_1_course_not_elected  0.023512\n",
       "id                      0.023509\n",
       "HIGH_SCHL_GPA           0.021682\n",
       "entrance_2              0.017233\n",
       "S_attained_perc         0.016921\n",
       "entrance_comb           0.016501\n",
       "S_2_grade_UD            0.015094\n",
       "DISTANCE_FROM_HOME      0.015088\n",
       "S_2_course_not_elected  0.014891\n",
       "F_attained_perc         0.013570\n",
       "course_fee              0.012798\n",
       "unmet_percent           0.012089\n",
       "SECOND_TERM             0.011891\n",
       "FIRST_TERM              0.011560\n",
       "e_fmly_contrb           0.011461\n",
       "entrance_1              0.010721\n",
       "unmet_std_need          0.010142\n",
       "amt_std_need            0.009193\n",
       "S_1_grade_B             0.008280"
      ]
     },
     "execution_count": 55,
     "metadata": {},
     "output_type": "execute_result"
    }
   ],
   "source": [
    "f_imp2.to_frame()"
   ]
  },
  {
   "cell_type": "code",
   "execution_count": 56,
   "metadata": {},
   "outputs": [
    {
     "name": "stderr",
     "output_type": "stream",
     "text": [
      "C:\\Users\\hp\\Anaconda3\\lib\\site-packages\\ipykernel_launcher.py:1: FutureWarning: The signature of `Series.to_csv` was aligned to that of `DataFrame.to_csv`, and argument 'header' will change its default value from False to True: please pass an explicit value to suppress this warning.\n",
      "  \"\"\"Entry point for launching an IPython kernel.\n"
     ]
    }
   ],
   "source": [
    "f_imp2.to_csv(\"fi.csv\")"
   ]
  },
  {
   "cell_type": "markdown",
   "metadata": {},
   "source": [
    "FEATURE IMPORTANCE: (Business question no 1)\n",
    "Key factors which is influencing the students attrition are,\n",
    "S_1_grade_UD              0.042682\n",
    "S_1_course_not_elected    0.024680\n",
    "id                        0.024441\n",
    "HIGH_SCHL_GPA             0.021627\n",
    "entrance_2                0.017614\n",
    "S_attained_perc           0.016776\n",
    "entrance_comb             0.016069\n",
    "S_2_grade_UD              0.014687\n",
    "F_attained_perc           0.014660\n",
    "DISTANCE_FROM_HOME        0.014579\n",
    "S_2_course_not_elected    0.014341\n",
    "course_fee                0.012831\n",
    "SECOND_TERM               0.011906\n",
    "FIRST_TERM                0.011238\n",
    "e_fmly_contrb             0.011107\n",
    "unmet_std_need            0.010827\n",
    "unmet_percent             0.010740\n",
    "entrance_1                0.010684\n",
    "amt_std_need              0.009451\n",
    "S_1_grade_B               0.008475\n"
   ]
  },
  {
   "cell_type": "code",
   "execution_count": 57,
   "metadata": {},
   "outputs": [],
   "source": [
    "dtm=dt1.copy()"
   ]
  },
  {
   "cell_type": "code",
   "execution_count": 58,
   "metadata": {},
   "outputs": [
    {
     "data": {
      "text/plain": [
       "Index(['id', 'age', 'gender', 'std_BG', 'IN_STATE_FLAG', 'INTERNATIONAL_STS',\n",
       "       'STDNT_MAJOR', 'STDNT_MINOR', 'entrance_1', 'entrance_2',\n",
       "       'entrance_comb', 'FIRST_TERM', 'F_1_course', 'F_1_grade', 'F_2_course',\n",
       "       'F_2_grade', 'F_3_course', 'F_3_grade', 'F_4_course', 'F_4_grade',\n",
       "       'F_5_course', 'F_5_grade', 'F_6_course', 'F_6_grade', 'SECOND_TERM',\n",
       "       'S_1_course', 'S_1_grade', 'S_2_course', 'S_2_grade', 'S_3_course',\n",
       "       'S_3_grade', 'S_4_course', 'S_4_grade', 'S_5_course', 'S_5_grade',\n",
       "       'S_6_course', 'S_6_grade', 'HOUSING_STS', 'left', 'DISTANCE_FROM_HOME',\n",
       "       'HIGH_SCHL_GPA', 'HIGH_SCHL_NAME', 'FATHER_HI_EDU_DESC',\n",
       "       'MOTHER_HI_EDU_DESC', 'DEGREE_GROUP_DESC', 'amt_std_need', 'course_fee',\n",
       "       'e_fmly_contrb', 'unmet_std_need', 'F_attained_perc', 'S_attained_perc',\n",
       "       'unmet_percent', 'funding'],\n",
       "      dtype='object')"
      ]
     },
     "execution_count": 58,
     "metadata": {},
     "output_type": "execute_result"
    }
   ],
   "source": [
    "dtm.columns"
   ]
  },
  {
   "cell_type": "code",
   "execution_count": 59,
   "metadata": {},
   "outputs": [],
   "source": [
    "dtm.drop([\"gender\",\"std_BG\"],axis=1,inplace=True)"
   ]
  },
  {
   "cell_type": "code",
   "execution_count": 60,
   "metadata": {},
   "outputs": [],
   "source": [
    "dtm.drop([\"IN_STATE_FLAG\",\"INTERNATIONAL_STS\",\"STDNT_MAJOR\",\"STDNT_MINOR\",\"F_1_course\",\"F_2_course\",\"F_3_course\",\"F_3_grade\",\"F_1_grade\",\"F_2_grade\",\"F_4_course\",\"F_4_grade\",\"F_5_course\",\"F_5_grade\",\"F_6_course\",\"F_6_grade\",\"S_3_course\",\"S_3_grade\",\"S_4_course\",\"S_4_grade\",\"S_5_course\",\"S_5_grade\",\"S_6_course\",\"S_6_grade\"],axis=1,inplace=True)"
   ]
  },
  {
   "cell_type": "code",
   "execution_count": 61,
   "metadata": {},
   "outputs": [],
   "source": [
    "dtm.drop([\"HOUSING_STS\",\"HIGH_SCHL_NAME\",\"FATHER_HI_EDU_DESC\",\"MOTHER_HI_EDU_DESC\",\"DEGREE_GROUP_DESC\"],axis=1,inplace=True)"
   ]
  },
  {
   "cell_type": "code",
   "execution_count": 62,
   "metadata": {},
   "outputs": [
    {
     "data": {
      "text/plain": [
       "Index(['id', 'age', 'entrance_1', 'entrance_2', 'entrance_comb', 'FIRST_TERM',\n",
       "       'SECOND_TERM', 'S_1_course', 'S_1_grade', 'S_2_course', 'S_2_grade',\n",
       "       'left', 'DISTANCE_FROM_HOME', 'HIGH_SCHL_GPA', 'amt_std_need',\n",
       "       'course_fee', 'e_fmly_contrb', 'unmet_std_need', 'F_attained_perc',\n",
       "       'S_attained_perc', 'unmet_percent', 'funding'],\n",
       "      dtype='object')"
      ]
     },
     "execution_count": 62,
     "metadata": {},
     "output_type": "execute_result"
    }
   ],
   "source": [
    "dtm.columns"
   ]
  },
  {
   "cell_type": "code",
   "execution_count": null,
   "metadata": {},
   "outputs": [],
   "source": []
  },
  {
   "cell_type": "code",
   "execution_count": 63,
   "metadata": {},
   "outputs": [],
   "source": [
    "###  train & test split on the data which we prepared  ####\n",
    "\n",
    "dtm_train=dtm.sample(frac=.80,random_state=200)"
   ]
  },
  {
   "cell_type": "code",
   "execution_count": 64,
   "metadata": {},
   "outputs": [],
   "source": [
    "dtm_test=dtm.drop(dtm_train.index)"
   ]
  },
  {
   "cell_type": "markdown",
   "metadata": {},
   "source": [
    "### MODEL BUILDING  ### LOGISTIC MODEL  ##"
   ]
  },
  {
   "cell_type": "code",
   "execution_count": 65,
   "metadata": {},
   "outputs": [],
   "source": [
    "log_model=smf.glm('left~age+entrance_1+entrance_2+entrance_comb+FIRST_TERM+SECOND_TERM+C(S_1_course)+C(S_1_grade)+C(S_2_grade)+DISTANCE_FROM_HOME+HIGH_SCHL_GPA+amt_std_need+course_fee+e_fmly_contrb+unmet_std_need+F_attained_perc+S_attained_perc+funding+unmet_percent',data=dtm_train,family=sm.families.Binomial()).fit()"
   ]
  },
  {
   "cell_type": "code",
   "execution_count": 66,
   "metadata": {},
   "outputs": [
    {
     "data": {
      "text/html": [
       "<table class=\"simpletable\">\n",
       "<caption>Generalized Linear Model Regression Results</caption>\n",
       "<tr>\n",
       "  <th>Dep. Variable:</th>         <td>left</td>       <th>  No. Observations:  </th>  <td>  2719</td> \n",
       "</tr>\n",
       "<tr>\n",
       "  <th>Model:</th>                  <td>GLM</td>       <th>  Df Residuals:      </th>  <td>  2665</td> \n",
       "</tr>\n",
       "<tr>\n",
       "  <th>Model Family:</th>        <td>Binomial</td>     <th>  Df Model:          </th>  <td>    53</td> \n",
       "</tr>\n",
       "<tr>\n",
       "  <th>Link Function:</th>         <td>logit</td>      <th>  Scale:             </th> <td>  1.0000</td>\n",
       "</tr>\n",
       "<tr>\n",
       "  <th>Method:</th>                <td>IRLS</td>       <th>  Log-Likelihood:    </th> <td> -1141.5</td>\n",
       "</tr>\n",
       "<tr>\n",
       "  <th>Date:</th>            <td>Tue, 07 Jan 2020</td> <th>  Deviance:          </th> <td>  2283.0</td>\n",
       "</tr>\n",
       "<tr>\n",
       "  <th>Time:</th>                <td>09:51:15</td>     <th>  Pearson chi2:      </th> <td>2.71e+03</td>\n",
       "</tr>\n",
       "<tr>\n",
       "  <th>No. Iterations:</th>         <td>21</td>        <th>                     </th>     <td> </td>   \n",
       "</tr>\n",
       "<tr>\n",
       "  <th>Covariance Type:</th>     <td>nonrobust</td>    <th>                     </th>     <td> </td>   \n",
       "</tr>\n",
       "</table>\n",
       "<table class=\"simpletable\">\n",
       "<tr>\n",
       "                <td></td>                  <th>coef</th>     <th>std err</th>      <th>z</th>      <th>P>|z|</th>  <th>[0.025</th>    <th>0.975]</th>  \n",
       "</tr>\n",
       "<tr>\n",
       "  <th>Intercept</th>                    <td>   -0.0077</td> <td>    0.016</td> <td>   -0.495</td> <td> 0.620</td> <td>   -0.038</td> <td>    0.023</td>\n",
       "</tr>\n",
       "<tr>\n",
       "  <th>C(S_1_course)[T.ARTH]</th>        <td>   -0.3897</td> <td>    0.432</td> <td>   -0.903</td> <td> 0.367</td> <td>   -1.236</td> <td>    0.456</td>\n",
       "</tr>\n",
       "<tr>\n",
       "  <th>C(S_1_course)[T.ASTR]</th>        <td>   -0.2276</td> <td>    0.843</td> <td>   -0.270</td> <td> 0.787</td> <td>   -1.881</td> <td>    1.426</td>\n",
       "</tr>\n",
       "<tr>\n",
       "  <th>C(S_1_course)[T.BIOL]</th>        <td>   -0.3914</td> <td>    0.454</td> <td>   -0.862</td> <td> 0.388</td> <td>   -1.281</td> <td>    0.498</td>\n",
       "</tr>\n",
       "<tr>\n",
       "  <th>C(S_1_course)[T.CHEM]</th>        <td>   -0.1323</td> <td>    0.458</td> <td>   -0.289</td> <td> 0.773</td> <td>   -1.030</td> <td>    0.766</td>\n",
       "</tr>\n",
       "<tr>\n",
       "  <th>C(S_1_course)[T.COMM]</th>        <td>   -0.4793</td> <td>    0.421</td> <td>   -1.139</td> <td> 0.255</td> <td>   -1.304</td> <td>    0.345</td>\n",
       "</tr>\n",
       "<tr>\n",
       "  <th>C(S_1_course)[T.CPSC]</th>        <td>   -0.3354</td> <td>    0.501</td> <td>   -0.669</td> <td> 0.503</td> <td>   -1.318</td> <td>    0.647</td>\n",
       "</tr>\n",
       "<tr>\n",
       "  <th>C(S_1_course)[T.ECON]</th>        <td>   -0.3370</td> <td>    0.420</td> <td>   -0.803</td> <td> 0.422</td> <td>   -1.160</td> <td>    0.486</td>\n",
       "</tr>\n",
       "<tr>\n",
       "  <th>C(S_1_course)[T.ENGL]</th>        <td>   -0.5547</td> <td>    0.387</td> <td>   -1.432</td> <td> 0.152</td> <td>   -1.314</td> <td>    0.205</td>\n",
       "</tr>\n",
       "<tr>\n",
       "  <th>C(S_1_course)[T.ENVS]</th>        <td>    0.1907</td> <td>    0.594</td> <td>    0.321</td> <td> 0.748</td> <td>   -0.974</td> <td>    1.355</td>\n",
       "</tr>\n",
       "<tr>\n",
       "  <th>C(S_1_course)[T.FREN]</th>        <td>    0.1122</td> <td>    0.748</td> <td>    0.150</td> <td> 0.881</td> <td>   -1.353</td> <td>    1.578</td>\n",
       "</tr>\n",
       "<tr>\n",
       "  <th>C(S_1_course)[T.GEOG]</th>        <td>   -0.5740</td> <td>    1.138</td> <td>   -0.504</td> <td> 0.614</td> <td>   -2.805</td> <td>    1.657</td>\n",
       "</tr>\n",
       "<tr>\n",
       "  <th>C(S_1_course)[T.GEOL]</th>        <td>   -0.5411</td> <td>    0.620</td> <td>   -0.872</td> <td> 0.383</td> <td>   -1.757</td> <td>    0.675</td>\n",
       "</tr>\n",
       "<tr>\n",
       "  <th>C(S_1_course)[T.HIST]</th>        <td>   -0.1041</td> <td>    0.393</td> <td>   -0.265</td> <td> 0.791</td> <td>   -0.874</td> <td>    0.666</td>\n",
       "</tr>\n",
       "<tr>\n",
       "  <th>C(S_1_course)[T.ITDS]</th>        <td>   -0.4847</td> <td>    0.560</td> <td>   -0.866</td> <td> 0.387</td> <td>   -1.582</td> <td>    0.613</td>\n",
       "</tr>\n",
       "<tr>\n",
       "  <th>C(S_1_course)[T.MATH]</th>        <td>   -0.5327</td> <td>    0.412</td> <td>   -1.292</td> <td> 0.196</td> <td>   -1.341</td> <td>    0.275</td>\n",
       "</tr>\n",
       "<tr>\n",
       "  <th>C(S_1_course)[T.MUSC]</th>        <td>   -0.9214</td> <td>    0.606</td> <td>   -1.521</td> <td> 0.128</td> <td>   -2.109</td> <td>    0.266</td>\n",
       "</tr>\n",
       "<tr>\n",
       "  <th>C(S_1_course)[T.PHYS]</th>        <td>  -20.8137</td> <td> 2.76e+04</td> <td>   -0.001</td> <td> 0.999</td> <td>-5.41e+04</td> <td> 5.41e+04</td>\n",
       "</tr>\n",
       "<tr>\n",
       "  <th>C(S_1_course)[T.POLS]</th>        <td>    0.0746</td> <td>    0.416</td> <td>    0.179</td> <td> 0.858</td> <td>   -0.741</td> <td>    0.890</td>\n",
       "</tr>\n",
       "<tr>\n",
       "  <th>C(S_1_course)[T.PSYC]</th>        <td>    0.2839</td> <td>    0.468</td> <td>    0.607</td> <td> 0.544</td> <td>   -0.634</td> <td>    1.201</td>\n",
       "</tr>\n",
       "<tr>\n",
       "  <th>C(S_1_course)[T.SOCI]</th>        <td>   -0.8264</td> <td>    1.145</td> <td>   -0.721</td> <td> 0.471</td> <td>   -3.071</td> <td>    1.419</td>\n",
       "</tr>\n",
       "<tr>\n",
       "  <th>C(S_1_course)[T.SPAN]</th>        <td>   -0.3931</td> <td>    0.626</td> <td>   -0.628</td> <td> 0.530</td> <td>   -1.620</td> <td>    0.834</td>\n",
       "</tr>\n",
       "<tr>\n",
       "  <th>C(S_1_course)[T.STAT]</th>        <td>   -0.9110</td> <td>    0.961</td> <td>   -0.948</td> <td> 0.343</td> <td>   -2.794</td> <td>    0.972</td>\n",
       "</tr>\n",
       "<tr>\n",
       "  <th>C(S_1_course)[T.THEA]</th>        <td>    0.0740</td> <td>    0.781</td> <td>    0.095</td> <td> 0.924</td> <td>   -1.456</td> <td>    1.604</td>\n",
       "</tr>\n",
       "<tr>\n",
       "  <th>C(S_1_course)[T.not_elected]</th> <td>   -0.3642</td> <td>    0.573</td> <td>   -0.635</td> <td> 0.525</td> <td>   -1.488</td> <td>    0.759</td>\n",
       "</tr>\n",
       "<tr>\n",
       "  <th>C(S_1_grade)[T.B]</th>            <td>   -0.2699</td> <td>    0.232</td> <td>   -1.164</td> <td> 0.244</td> <td>   -0.724</td> <td>    0.185</td>\n",
       "</tr>\n",
       "<tr>\n",
       "  <th>C(S_1_grade)[T.C]</th>            <td>   -0.0126</td> <td>    0.268</td> <td>   -0.047</td> <td> 0.962</td> <td>   -0.537</td> <td>    0.512</td>\n",
       "</tr>\n",
       "<tr>\n",
       "  <th>C(S_1_grade)[T.D]</th>            <td>    0.3810</td> <td>    0.305</td> <td>    1.250</td> <td> 0.211</td> <td>   -0.216</td> <td>    0.978</td>\n",
       "</tr>\n",
       "<tr>\n",
       "  <th>C(S_1_grade)[T.F]</th>            <td>    0.7977</td> <td>    0.345</td> <td>    2.314</td> <td> 0.021</td> <td>    0.122</td> <td>    1.473</td>\n",
       "</tr>\n",
       "<tr>\n",
       "  <th>C(S_1_grade)[T.INCOMPL]</th>      <td>    1.1816</td> <td>    0.525</td> <td>    2.252</td> <td> 0.024</td> <td>    0.153</td> <td>    2.210</td>\n",
       "</tr>\n",
       "<tr>\n",
       "  <th>C(S_1_grade)[T.NOT REP]</th>      <td>   -0.7271</td> <td>    0.574</td> <td>   -1.267</td> <td> 0.205</td> <td>   -1.852</td> <td>    0.398</td>\n",
       "</tr>\n",
       "<tr>\n",
       "  <th>C(S_1_grade)[T.UD]</th>           <td>    3.2666</td> <td>    0.463</td> <td>    7.051</td> <td> 0.000</td> <td>    2.359</td> <td>    4.175</td>\n",
       "</tr>\n",
       "<tr>\n",
       "  <th>C(S_1_grade)[T.Unknown]</th>      <td>   23.6927</td> <td> 2.13e+04</td> <td>    0.001</td> <td> 0.999</td> <td>-4.18e+04</td> <td> 4.18e+04</td>\n",
       "</tr>\n",
       "<tr>\n",
       "  <th>C(S_2_grade)[T.B]</th>            <td>   -0.0541</td> <td>    0.192</td> <td>   -0.282</td> <td> 0.778</td> <td>   -0.430</td> <td>    0.322</td>\n",
       "</tr>\n",
       "<tr>\n",
       "  <th>C(S_2_grade)[T.C]</th>            <td>    0.0401</td> <td>    0.233</td> <td>    0.172</td> <td> 0.864</td> <td>   -0.417</td> <td>    0.498</td>\n",
       "</tr>\n",
       "<tr>\n",
       "  <th>C(S_2_grade)[T.D]</th>            <td>    0.6002</td> <td>    0.289</td> <td>    2.080</td> <td> 0.038</td> <td>    0.035</td> <td>    1.166</td>\n",
       "</tr>\n",
       "<tr>\n",
       "  <th>C(S_2_grade)[T.F]</th>            <td>    1.3723</td> <td>    0.350</td> <td>    3.920</td> <td> 0.000</td> <td>    0.686</td> <td>    2.059</td>\n",
       "</tr>\n",
       "<tr>\n",
       "  <th>C(S_2_grade)[T.INCOMPL]</th>      <td>    1.8811</td> <td>    1.562</td> <td>    1.204</td> <td> 0.228</td> <td>   -1.180</td> <td>    4.942</td>\n",
       "</tr>\n",
       "<tr>\n",
       "  <th>C(S_2_grade)[T.UD]</th>           <td>    0.1710</td> <td>    0.265</td> <td>    0.646</td> <td> 0.518</td> <td>   -0.348</td> <td>    0.690</td>\n",
       "</tr>\n",
       "<tr>\n",
       "  <th>age</th>                          <td>    0.0150</td> <td>    0.095</td> <td>    0.158</td> <td> 0.874</td> <td>   -0.170</td> <td>    0.200</td>\n",
       "</tr>\n",
       "<tr>\n",
       "  <th>entrance_1</th>                   <td>   -0.0021</td> <td>    0.007</td> <td>   -0.278</td> <td> 0.781</td> <td>   -0.016</td> <td>    0.012</td>\n",
       "</tr>\n",
       "<tr>\n",
       "  <th>entrance_2</th>                   <td>   -0.0002</td> <td>    0.000</td> <td>   -0.940</td> <td> 0.347</td> <td>   -0.001</td> <td>    0.000</td>\n",
       "</tr>\n",
       "<tr>\n",
       "  <th>entrance_comb</th>                <td>    0.0002</td> <td>    0.000</td> <td>    0.774</td> <td> 0.439</td> <td>   -0.000</td> <td>    0.001</td>\n",
       "</tr>\n",
       "<tr>\n",
       "  <th>FIRST_TERM</th>                   <td>    0.3625</td> <td>    0.732</td> <td>    0.495</td> <td> 0.620</td> <td>   -1.072</td> <td>    1.797</td>\n",
       "</tr>\n",
       "<tr>\n",
       "  <th>SECOND_TERM</th>                  <td>   -0.3624</td> <td>    0.732</td> <td>   -0.495</td> <td> 0.620</td> <td>   -1.796</td> <td>    1.072</td>\n",
       "</tr>\n",
       "<tr>\n",
       "  <th>DISTANCE_FROM_HOME</th>           <td>    0.0002</td> <td>    0.000</td> <td>    1.158</td> <td> 0.247</td> <td>   -0.000</td> <td>    0.001</td>\n",
       "</tr>\n",
       "<tr>\n",
       "  <th>HIGH_SCHL_GPA</th>                <td>    0.0058</td> <td>    0.138</td> <td>    0.042</td> <td> 0.966</td> <td>   -0.264</td> <td>    0.276</td>\n",
       "</tr>\n",
       "<tr>\n",
       "  <th>amt_std_need</th>                 <td>-5.234e-07</td> <td> 3.27e-07</td> <td>   -1.600</td> <td> 0.110</td> <td>-1.16e-06</td> <td> 1.18e-07</td>\n",
       "</tr>\n",
       "<tr>\n",
       "  <th>course_fee</th>                   <td> 3.001e-07</td> <td> 2.62e-07</td> <td>    1.146</td> <td> 0.252</td> <td>-2.13e-07</td> <td> 8.13e-07</td>\n",
       "</tr>\n",
       "<tr>\n",
       "  <th>e_fmly_contrb</th>                <td>-1.299e-07</td> <td> 1.27e-07</td> <td>   -1.026</td> <td> 0.305</td> <td>-3.78e-07</td> <td> 1.18e-07</td>\n",
       "</tr>\n",
       "<tr>\n",
       "  <th>unmet_std_need</th>               <td>-1.079e-06</td> <td> 1.18e-06</td> <td>   -0.911</td> <td> 0.362</td> <td> -3.4e-06</td> <td> 1.24e-06</td>\n",
       "</tr>\n",
       "<tr>\n",
       "  <th>F_attained_perc</th>              <td>    0.2269</td> <td>    0.303</td> <td>    0.748</td> <td> 0.455</td> <td>   -0.368</td> <td>    0.822</td>\n",
       "</tr>\n",
       "<tr>\n",
       "  <th>S_attained_perc</th>              <td>    0.8390</td> <td>    0.387</td> <td>    2.168</td> <td> 0.030</td> <td>    0.081</td> <td>    1.597</td>\n",
       "</tr>\n",
       "<tr>\n",
       "  <th>funding</th>                      <td>   -0.0575</td> <td>    0.295</td> <td>   -0.195</td> <td> 0.845</td> <td>   -0.635</td> <td>    0.520</td>\n",
       "</tr>\n",
       "<tr>\n",
       "  <th>unmet_percent</th>                <td>    2.2141</td> <td>    1.349</td> <td>    1.642</td> <td> 0.101</td> <td>   -0.429</td> <td>    4.858</td>\n",
       "</tr>\n",
       "</table>"
      ],
      "text/plain": [
       "<class 'statsmodels.iolib.summary.Summary'>\n",
       "\"\"\"\n",
       "                 Generalized Linear Model Regression Results                  \n",
       "==============================================================================\n",
       "Dep. Variable:                   left   No. Observations:                 2719\n",
       "Model:                            GLM   Df Residuals:                     2665\n",
       "Model Family:                Binomial   Df Model:                           53\n",
       "Link Function:                  logit   Scale:                          1.0000\n",
       "Method:                          IRLS   Log-Likelihood:                -1141.5\n",
       "Date:                Tue, 07 Jan 2020   Deviance:                       2283.0\n",
       "Time:                        09:51:15   Pearson chi2:                 2.71e+03\n",
       "No. Iterations:                    21                                         \n",
       "Covariance Type:            nonrobust                                         \n",
       "================================================================================================\n",
       "                                   coef    std err          z      P>|z|      [0.025      0.975]\n",
       "------------------------------------------------------------------------------------------------\n",
       "Intercept                       -0.0077      0.016     -0.495      0.620      -0.038       0.023\n",
       "C(S_1_course)[T.ARTH]           -0.3897      0.432     -0.903      0.367      -1.236       0.456\n",
       "C(S_1_course)[T.ASTR]           -0.2276      0.843     -0.270      0.787      -1.881       1.426\n",
       "C(S_1_course)[T.BIOL]           -0.3914      0.454     -0.862      0.388      -1.281       0.498\n",
       "C(S_1_course)[T.CHEM]           -0.1323      0.458     -0.289      0.773      -1.030       0.766\n",
       "C(S_1_course)[T.COMM]           -0.4793      0.421     -1.139      0.255      -1.304       0.345\n",
       "C(S_1_course)[T.CPSC]           -0.3354      0.501     -0.669      0.503      -1.318       0.647\n",
       "C(S_1_course)[T.ECON]           -0.3370      0.420     -0.803      0.422      -1.160       0.486\n",
       "C(S_1_course)[T.ENGL]           -0.5547      0.387     -1.432      0.152      -1.314       0.205\n",
       "C(S_1_course)[T.ENVS]            0.1907      0.594      0.321      0.748      -0.974       1.355\n",
       "C(S_1_course)[T.FREN]            0.1122      0.748      0.150      0.881      -1.353       1.578\n",
       "C(S_1_course)[T.GEOG]           -0.5740      1.138     -0.504      0.614      -2.805       1.657\n",
       "C(S_1_course)[T.GEOL]           -0.5411      0.620     -0.872      0.383      -1.757       0.675\n",
       "C(S_1_course)[T.HIST]           -0.1041      0.393     -0.265      0.791      -0.874       0.666\n",
       "C(S_1_course)[T.ITDS]           -0.4847      0.560     -0.866      0.387      -1.582       0.613\n",
       "C(S_1_course)[T.MATH]           -0.5327      0.412     -1.292      0.196      -1.341       0.275\n",
       "C(S_1_course)[T.MUSC]           -0.9214      0.606     -1.521      0.128      -2.109       0.266\n",
       "C(S_1_course)[T.PHYS]          -20.8137   2.76e+04     -0.001      0.999   -5.41e+04    5.41e+04\n",
       "C(S_1_course)[T.POLS]            0.0746      0.416      0.179      0.858      -0.741       0.890\n",
       "C(S_1_course)[T.PSYC]            0.2839      0.468      0.607      0.544      -0.634       1.201\n",
       "C(S_1_course)[T.SOCI]           -0.8264      1.145     -0.721      0.471      -3.071       1.419\n",
       "C(S_1_course)[T.SPAN]           -0.3931      0.626     -0.628      0.530      -1.620       0.834\n",
       "C(S_1_course)[T.STAT]           -0.9110      0.961     -0.948      0.343      -2.794       0.972\n",
       "C(S_1_course)[T.THEA]            0.0740      0.781      0.095      0.924      -1.456       1.604\n",
       "C(S_1_course)[T.not_elected]    -0.3642      0.573     -0.635      0.525      -1.488       0.759\n",
       "C(S_1_grade)[T.B]               -0.2699      0.232     -1.164      0.244      -0.724       0.185\n",
       "C(S_1_grade)[T.C]               -0.0126      0.268     -0.047      0.962      -0.537       0.512\n",
       "C(S_1_grade)[T.D]                0.3810      0.305      1.250      0.211      -0.216       0.978\n",
       "C(S_1_grade)[T.F]                0.7977      0.345      2.314      0.021       0.122       1.473\n",
       "C(S_1_grade)[T.INCOMPL]          1.1816      0.525      2.252      0.024       0.153       2.210\n",
       "C(S_1_grade)[T.NOT REP]         -0.7271      0.574     -1.267      0.205      -1.852       0.398\n",
       "C(S_1_grade)[T.UD]               3.2666      0.463      7.051      0.000       2.359       4.175\n",
       "C(S_1_grade)[T.Unknown]         23.6927   2.13e+04      0.001      0.999   -4.18e+04    4.18e+04\n",
       "C(S_2_grade)[T.B]               -0.0541      0.192     -0.282      0.778      -0.430       0.322\n",
       "C(S_2_grade)[T.C]                0.0401      0.233      0.172      0.864      -0.417       0.498\n",
       "C(S_2_grade)[T.D]                0.6002      0.289      2.080      0.038       0.035       1.166\n",
       "C(S_2_grade)[T.F]                1.3723      0.350      3.920      0.000       0.686       2.059\n",
       "C(S_2_grade)[T.INCOMPL]          1.8811      1.562      1.204      0.228      -1.180       4.942\n",
       "C(S_2_grade)[T.UD]               0.1710      0.265      0.646      0.518      -0.348       0.690\n",
       "age                              0.0150      0.095      0.158      0.874      -0.170       0.200\n",
       "entrance_1                      -0.0021      0.007     -0.278      0.781      -0.016       0.012\n",
       "entrance_2                      -0.0002      0.000     -0.940      0.347      -0.001       0.000\n",
       "entrance_comb                    0.0002      0.000      0.774      0.439      -0.000       0.001\n",
       "FIRST_TERM                       0.3625      0.732      0.495      0.620      -1.072       1.797\n",
       "SECOND_TERM                     -0.3624      0.732     -0.495      0.620      -1.796       1.072\n",
       "DISTANCE_FROM_HOME               0.0002      0.000      1.158      0.247      -0.000       0.001\n",
       "HIGH_SCHL_GPA                    0.0058      0.138      0.042      0.966      -0.264       0.276\n",
       "amt_std_need                 -5.234e-07   3.27e-07     -1.600      0.110   -1.16e-06    1.18e-07\n",
       "course_fee                    3.001e-07   2.62e-07      1.146      0.252   -2.13e-07    8.13e-07\n",
       "e_fmly_contrb                -1.299e-07   1.27e-07     -1.026      0.305   -3.78e-07    1.18e-07\n",
       "unmet_std_need               -1.079e-06   1.18e-06     -0.911      0.362    -3.4e-06    1.24e-06\n",
       "F_attained_perc                  0.2269      0.303      0.748      0.455      -0.368       0.822\n",
       "S_attained_perc                  0.8390      0.387      2.168      0.030       0.081       1.597\n",
       "funding                         -0.0575      0.295     -0.195      0.845      -0.635       0.520\n",
       "unmet_percent                    2.2141      1.349      1.642      0.101      -0.429       4.858\n",
       "================================================================================================\n",
       "\"\"\""
      ]
     },
     "execution_count": 66,
     "metadata": {},
     "output_type": "execute_result"
    }
   ],
   "source": [
    "log_model.summary()"
   ]
  },
  {
   "cell_type": "markdown",
   "metadata": {},
   "source": [
    "#### BACKWARD ELIMINATION"
   ]
  },
  {
   "cell_type": "code",
   "execution_count": 67,
   "metadata": {},
   "outputs": [],
   "source": [
    "####   droping the variables which is not significant to my target varibles   ####"
   ]
  },
  {
   "cell_type": "code",
   "execution_count": 68,
   "metadata": {},
   "outputs": [],
   "source": [
    "dtm=pd.get_dummies(dtm,columns=['S_1_course','S_1_grade','S_2_grade'])"
   ]
  },
  {
   "cell_type": "code",
   "execution_count": 69,
   "metadata": {},
   "outputs": [],
   "source": [
    "dtm[\"S_2_course_not_elected\"]=dtm[\"S_2_course\"].map(lambda x:1 if x=='not_elected' else 0)"
   ]
  },
  {
   "cell_type": "code",
   "execution_count": 70,
   "metadata": {},
   "outputs": [],
   "source": [
    "dtm[\"S_2_course_BIOL\"]=dtm[\"S_2_course\"].map(lambda x:1 if x=='BIOL' else 0)"
   ]
  },
  {
   "cell_type": "code",
   "execution_count": 71,
   "metadata": {},
   "outputs": [],
   "source": [
    "dtm=pd.get_dummies(dtm,columns=['SECOND_TERM'])"
   ]
  },
  {
   "cell_type": "code",
   "execution_count": 72,
   "metadata": {},
   "outputs": [
    {
     "data": {
      "text/plain": [
       "Index(['id', 'age', 'entrance_1', 'entrance_2', 'entrance_comb', 'FIRST_TERM',\n",
       "       'S_2_course', 'left', 'DISTANCE_FROM_HOME', 'HIGH_SCHL_GPA',\n",
       "       'amt_std_need', 'course_fee', 'e_fmly_contrb', 'unmet_std_need',\n",
       "       'F_attained_perc', 'S_attained_perc', 'unmet_percent', 'funding',\n",
       "       'S_1_course_ANTH', 'S_1_course_ARTH', 'S_1_course_ASTR',\n",
       "       'S_1_course_BIOL', 'S_1_course_CHEM', 'S_1_course_COMM',\n",
       "       'S_1_course_CPSC', 'S_1_course_ECON', 'S_1_course_ENGL',\n",
       "       'S_1_course_ENVS', 'S_1_course_FREN', 'S_1_course_GEOG',\n",
       "       'S_1_course_GEOL', 'S_1_course_HIST', 'S_1_course_ITDS',\n",
       "       'S_1_course_MATH', 'S_1_course_MUSC', 'S_1_course_PHYS',\n",
       "       'S_1_course_POLS', 'S_1_course_PSYC', 'S_1_course_SOCI',\n",
       "       'S_1_course_SPAN', 'S_1_course_STAT', 'S_1_course_THEA',\n",
       "       'S_1_course_not_elected', 'S_1_grade_A', 'S_1_grade_B', 'S_1_grade_C',\n",
       "       'S_1_grade_D', 'S_1_grade_F', 'S_1_grade_INCOMPL', 'S_1_grade_NOT REP',\n",
       "       'S_1_grade_UD', 'S_1_grade_Unknown', 'S_2_grade_A', 'S_2_grade_B',\n",
       "       'S_2_grade_C', 'S_2_grade_D', 'S_2_grade_F', 'S_2_grade_INCOMPL',\n",
       "       'S_2_grade_UD', 'S_2_course_not_elected', 'S_2_course_BIOL',\n",
       "       'SECOND_TERM_200602.0', 'SECOND_TERM_200702.0', 'SECOND_TERM_200802.0',\n",
       "       'SECOND_TERM_200902.0', 'SECOND_TERM_201002.0', 'SECOND_TERM_201102.0'],\n",
       "      dtype='object')"
      ]
     },
     "execution_count": 72,
     "metadata": {},
     "output_type": "execute_result"
    }
   ],
   "source": [
    "dtm.columns"
   ]
  },
  {
   "cell_type": "code",
   "execution_count": 73,
   "metadata": {},
   "outputs": [],
   "source": [
    "dtm.drop([\"S_1_course_ANTH\",\"S_1_course_ARTH\",\"S_1_course_ASTR\",\"S_1_course_BIOL\",\"S_1_course_CHEM\",\"S_1_course_COMM\",\"S_1_course_CPSC\",\"S_1_course_ECON\",\"S_1_course_ENGL\",\"S_1_course_ENVS\",\"S_1_course_FREN\",\"S_1_course_GEOG\",\"S_1_course_GEOL\",\"S_1_course_HIST\",\"S_1_course_ITDS\",\"S_1_course_MATH\",\"S_1_course_MUSC\",\"S_1_course_PHYS\",\"S_1_course_POLS\",\"S_1_course_PSYC\",\"S_1_course_SOCI\",\"S_1_course_SPAN\",\"S_1_course_STAT\"],axis=1,inplace=True)"
   ]
  },
  {
   "cell_type": "code",
   "execution_count": 74,
   "metadata": {},
   "outputs": [],
   "source": [
    "dtm.drop([\"S_1_grade_C\",\"S_1_grade_D\",\"S_1_grade_F\",\"S_1_grade_INCOMPL\",\"S_1_grade_NOT REP\",\"S_1_grade_Unknown\",\"S_2_grade_C\",\"S_2_grade_D\",\"S_2_grade_F\",\"S_2_grade_INCOMPL\"],axis=1,inplace=True)"
   ]
  },
  {
   "cell_type": "code",
   "execution_count": 75,
   "metadata": {},
   "outputs": [
    {
     "data": {
      "text/plain": [
       "Index(['id', 'age', 'entrance_1', 'entrance_2', 'entrance_comb', 'FIRST_TERM',\n",
       "       'S_2_course', 'left', 'DISTANCE_FROM_HOME', 'HIGH_SCHL_GPA',\n",
       "       'amt_std_need', 'course_fee', 'e_fmly_contrb', 'unmet_std_need',\n",
       "       'F_attained_perc', 'S_attained_perc', 'unmet_percent', 'funding',\n",
       "       'S_1_course_THEA', 'S_1_course_not_elected', 'S_1_grade_A',\n",
       "       'S_1_grade_B', 'S_1_grade_UD', 'S_2_grade_A', 'S_2_grade_B',\n",
       "       'S_2_grade_UD', 'S_2_course_not_elected', 'S_2_course_BIOL',\n",
       "       'SECOND_TERM_200602.0', 'SECOND_TERM_200702.0', 'SECOND_TERM_200802.0',\n",
       "       'SECOND_TERM_200902.0', 'SECOND_TERM_201002.0', 'SECOND_TERM_201102.0'],\n",
       "      dtype='object')"
      ]
     },
     "execution_count": 75,
     "metadata": {},
     "output_type": "execute_result"
    }
   ],
   "source": [
    "dtm.columns"
   ]
  },
  {
   "cell_type": "code",
   "execution_count": 76,
   "metadata": {},
   "outputs": [],
   "source": [
    "dtm.rename(columns={\"SECOND_TERM_200602.0\":\"ST_2006\"},inplace=True)"
   ]
  },
  {
   "cell_type": "code",
   "execution_count": 77,
   "metadata": {},
   "outputs": [],
   "source": [
    "dtm.rename(columns={\"SECOND_TERM_200702.0\":\"ST_2007\"},inplace=True)"
   ]
  },
  {
   "cell_type": "code",
   "execution_count": 78,
   "metadata": {},
   "outputs": [],
   "source": [
    "dtm.rename(columns={\"SECOND_TERM_200802.0\":\"ST_2008\"},inplace=True)"
   ]
  },
  {
   "cell_type": "code",
   "execution_count": 79,
   "metadata": {},
   "outputs": [],
   "source": [
    "dtm.rename(columns={\"SECOND_TERM_200902.0\":\"ST_2009\"},inplace=True)"
   ]
  },
  {
   "cell_type": "code",
   "execution_count": 80,
   "metadata": {},
   "outputs": [],
   "source": [
    "dtm.rename(columns={\"SECOND_TERM_201002.0\":\"ST_2010\"},inplace=True)"
   ]
  },
  {
   "cell_type": "code",
   "execution_count": 81,
   "metadata": {},
   "outputs": [],
   "source": [
    "dtm.rename(columns={\"SECOND_TERM_201102.0\":\"ST_2011\"},inplace=True)"
   ]
  },
  {
   "cell_type": "code",
   "execution_count": 82,
   "metadata": {},
   "outputs": [
    {
     "data": {
      "text/plain": [
       "Index(['id', 'age', 'entrance_1', 'entrance_2', 'entrance_comb', 'FIRST_TERM',\n",
       "       'S_2_course', 'left', 'DISTANCE_FROM_HOME', 'HIGH_SCHL_GPA',\n",
       "       'amt_std_need', 'course_fee', 'e_fmly_contrb', 'unmet_std_need',\n",
       "       'F_attained_perc', 'S_attained_perc', 'unmet_percent', 'funding',\n",
       "       'S_1_course_THEA', 'S_1_course_not_elected', 'S_1_grade_A',\n",
       "       'S_1_grade_B', 'S_1_grade_UD', 'S_2_grade_A', 'S_2_grade_B',\n",
       "       'S_2_grade_UD', 'S_2_course_not_elected', 'S_2_course_BIOL', 'ST_2006',\n",
       "       'ST_2007', 'ST_2008', 'ST_2009', 'ST_2010', 'ST_2011'],\n",
       "      dtype='object')"
      ]
     },
     "execution_count": 82,
     "metadata": {},
     "output_type": "execute_result"
    }
   ],
   "source": [
    "dtm.columns"
   ]
  },
  {
   "cell_type": "code",
   "execution_count": 83,
   "metadata": {},
   "outputs": [],
   "source": [
    "######  second time ###  LOGISTIC"
   ]
  },
  {
   "cell_type": "code",
   "execution_count": 84,
   "metadata": {},
   "outputs": [],
   "source": [
    "dtm_train1=dtm.sample(frac=.80,random_state=200)"
   ]
  },
  {
   "cell_type": "code",
   "execution_count": 85,
   "metadata": {},
   "outputs": [],
   "source": [
    "dtm_test1=dtm.drop(dtm_train1.index)"
   ]
  },
  {
   "cell_type": "code",
   "execution_count": 86,
   "metadata": {},
   "outputs": [],
   "source": [
    "log_model1=smf.glm('left~age+entrance_1+entrance_2+entrance_comb+FIRST_TERM+ST_2006+ST_2007+ST_2008+ST_2009+ST_2010+ST_2011+DISTANCE_FROM_HOME+HIGH_SCHL_GPA+amt_std_need+course_fee+e_fmly_contrb+unmet_std_need+F_attained_perc+S_attained_perc+funding+S_1_course_not_elected+S_1_grade_B+S_1_grade_UD+S_2_grade_B+S_2_grade_UD+S_2_course_not_elected+unmet_percent',data=dtm_train1,family=sm.families.Binomial()).fit()"
   ]
  },
  {
   "cell_type": "code",
   "execution_count": 87,
   "metadata": {},
   "outputs": [
    {
     "data": {
      "text/html": [
       "<table class=\"simpletable\">\n",
       "<caption>Generalized Linear Model Regression Results</caption>\n",
       "<tr>\n",
       "  <th>Dep. Variable:</th>         <td>left</td>       <th>  No. Observations:  </th>  <td>  2719</td> \n",
       "</tr>\n",
       "<tr>\n",
       "  <th>Model:</th>                  <td>GLM</td>       <th>  Df Residuals:      </th>  <td>  2694</td> \n",
       "</tr>\n",
       "<tr>\n",
       "  <th>Model Family:</th>        <td>Binomial</td>     <th>  Df Model:          </th>  <td>    24</td> \n",
       "</tr>\n",
       "<tr>\n",
       "  <th>Link Function:</th>         <td>logit</td>      <th>  Scale:             </th> <td>  1.0000</td>\n",
       "</tr>\n",
       "<tr>\n",
       "  <th>Method:</th>                <td>IRLS</td>       <th>  Log-Likelihood:    </th> <td> -1185.5</td>\n",
       "</tr>\n",
       "<tr>\n",
       "  <th>Date:</th>            <td>Tue, 07 Jan 2020</td> <th>  Deviance:          </th> <td>  2370.9</td>\n",
       "</tr>\n",
       "<tr>\n",
       "  <th>Time:</th>                <td>09:51:18</td>     <th>  Pearson chi2:      </th> <td>2.75e+03</td>\n",
       "</tr>\n",
       "<tr>\n",
       "  <th>No. Iterations:</th>          <td>5</td>        <th>                     </th>     <td> </td>   \n",
       "</tr>\n",
       "<tr>\n",
       "  <th>Covariance Type:</th>     <td>nonrobust</td>    <th>                     </th>     <td> </td>   \n",
       "</tr>\n",
       "</table>\n",
       "<table class=\"simpletable\">\n",
       "<tr>\n",
       "             <td></td>               <th>coef</th>     <th>std err</th>      <th>z</th>      <th>P>|z|</th>  <th>[0.025</th>    <th>0.975]</th>  \n",
       "</tr>\n",
       "<tr>\n",
       "  <th>Intercept</th>              <td>   -0.0004</td> <td>    0.000</td> <td>   -1.409</td> <td> 0.159</td> <td>   -0.001</td> <td>    0.000</td>\n",
       "</tr>\n",
       "<tr>\n",
       "  <th>age</th>                    <td>   -0.0034</td> <td>    0.089</td> <td>   -0.038</td> <td> 0.970</td> <td>   -0.178</td> <td>    0.171</td>\n",
       "</tr>\n",
       "<tr>\n",
       "  <th>entrance_1</th>             <td>   -0.0041</td> <td>    0.007</td> <td>   -0.567</td> <td> 0.571</td> <td>   -0.018</td> <td>    0.010</td>\n",
       "</tr>\n",
       "<tr>\n",
       "  <th>entrance_2</th>             <td>   -0.0002</td> <td>    0.000</td> <td>   -1.041</td> <td> 0.298</td> <td>   -0.001</td> <td>    0.000</td>\n",
       "</tr>\n",
       "<tr>\n",
       "  <th>entrance_comb</th>          <td>    0.0002</td> <td>    0.000</td> <td>    0.967</td> <td> 0.334</td> <td>   -0.000</td> <td>    0.001</td>\n",
       "</tr>\n",
       "<tr>\n",
       "  <th>FIRST_TERM</th>             <td>-7.651e-07</td> <td> 8.34e-06</td> <td>   -0.092</td> <td> 0.927</td> <td>-1.71e-05</td> <td> 1.56e-05</td>\n",
       "</tr>\n",
       "<tr>\n",
       "  <th>ST_2006</th>                <td>    0.0498</td> <td>    0.124</td> <td>    0.402</td> <td> 0.688</td> <td>   -0.193</td> <td>    0.293</td>\n",
       "</tr>\n",
       "<tr>\n",
       "  <th>ST_2007</th>                <td>   -0.3502</td> <td>    0.138</td> <td>   -2.543</td> <td> 0.011</td> <td>   -0.620</td> <td>   -0.080</td>\n",
       "</tr>\n",
       "<tr>\n",
       "  <th>ST_2008</th>                <td>    0.0515</td> <td>    0.121</td> <td>    0.426</td> <td> 0.670</td> <td>   -0.186</td> <td>    0.289</td>\n",
       "</tr>\n",
       "<tr>\n",
       "  <th>ST_2009</th>                <td>    0.0401</td> <td>    0.115</td> <td>    0.348</td> <td> 0.728</td> <td>   -0.186</td> <td>    0.266</td>\n",
       "</tr>\n",
       "<tr>\n",
       "  <th>ST_2010</th>                <td>    0.1263</td> <td>    0.125</td> <td>    1.012</td> <td> 0.312</td> <td>   -0.118</td> <td>    0.371</td>\n",
       "</tr>\n",
       "<tr>\n",
       "  <th>ST_2011</th>                <td>    0.0820</td> <td>    0.126</td> <td>    0.653</td> <td> 0.514</td> <td>   -0.164</td> <td>    0.328</td>\n",
       "</tr>\n",
       "<tr>\n",
       "  <th>DISTANCE_FROM_HOME</th>     <td>    0.0002</td> <td>    0.000</td> <td>    1.048</td> <td> 0.294</td> <td>   -0.000</td> <td>    0.001</td>\n",
       "</tr>\n",
       "<tr>\n",
       "  <th>HIGH_SCHL_GPA</th>          <td>   -0.1180</td> <td>    0.126</td> <td>   -0.935</td> <td> 0.350</td> <td>   -0.366</td> <td>    0.130</td>\n",
       "</tr>\n",
       "<tr>\n",
       "  <th>amt_std_need</th>           <td>-4.629e-07</td> <td>  3.2e-07</td> <td>   -1.447</td> <td> 0.148</td> <td>-1.09e-06</td> <td> 1.64e-07</td>\n",
       "</tr>\n",
       "<tr>\n",
       "  <th>course_fee</th>             <td> 1.902e-07</td> <td> 2.67e-07</td> <td>    0.713</td> <td> 0.476</td> <td>-3.33e-07</td> <td> 7.13e-07</td>\n",
       "</tr>\n",
       "<tr>\n",
       "  <th>e_fmly_contrb</th>          <td>-1.048e-07</td> <td> 1.25e-07</td> <td>   -0.841</td> <td> 0.400</td> <td>-3.49e-07</td> <td> 1.39e-07</td>\n",
       "</tr>\n",
       "<tr>\n",
       "  <th>unmet_std_need</th>         <td>-9.414e-07</td> <td> 1.18e-06</td> <td>   -0.797</td> <td> 0.425</td> <td>-3.26e-06</td> <td> 1.37e-06</td>\n",
       "</tr>\n",
       "<tr>\n",
       "  <th>F_attained_perc</th>        <td>    0.0538</td> <td>    0.290</td> <td>    0.185</td> <td> 0.853</td> <td>   -0.515</td> <td>    0.622</td>\n",
       "</tr>\n",
       "<tr>\n",
       "  <th>S_attained_perc</th>        <td>   -1.0868</td> <td>    0.271</td> <td>   -4.012</td> <td> 0.000</td> <td>   -1.618</td> <td>   -0.556</td>\n",
       "</tr>\n",
       "<tr>\n",
       "  <th>funding</th>                <td>   -0.0505</td> <td>    0.287</td> <td>   -0.176</td> <td> 0.860</td> <td>   -0.613</td> <td>    0.512</td>\n",
       "</tr>\n",
       "<tr>\n",
       "  <th>S_1_course_not_elected</th> <td>   -0.1490</td> <td>    0.438</td> <td>   -0.341</td> <td> 0.733</td> <td>   -1.007</td> <td>    0.709</td>\n",
       "</tr>\n",
       "<tr>\n",
       "  <th>S_1_grade_B</th>            <td>   -0.4162</td> <td>    0.145</td> <td>   -2.870</td> <td> 0.004</td> <td>   -0.700</td> <td>   -0.132</td>\n",
       "</tr>\n",
       "<tr>\n",
       "  <th>S_1_grade_UD</th>           <td>    3.5090</td> <td>    0.436</td> <td>    8.047</td> <td> 0.000</td> <td>    2.654</td> <td>    4.364</td>\n",
       "</tr>\n",
       "<tr>\n",
       "  <th>S_2_grade_B</th>            <td>   -0.2931</td> <td>    0.126</td> <td>   -2.325</td> <td> 0.020</td> <td>   -0.540</td> <td>   -0.046</td>\n",
       "</tr>\n",
       "<tr>\n",
       "  <th>S_2_grade_UD</th>           <td>   -0.1384</td> <td>    0.119</td> <td>   -1.160</td> <td> 0.246</td> <td>   -0.372</td> <td>    0.096</td>\n",
       "</tr>\n",
       "<tr>\n",
       "  <th>S_2_course_not_elected</th> <td>   -0.1384</td> <td>    0.119</td> <td>   -1.160</td> <td> 0.246</td> <td>   -0.372</td> <td>    0.096</td>\n",
       "</tr>\n",
       "<tr>\n",
       "  <th>unmet_percent</th>          <td>    2.1371</td> <td>    1.348</td> <td>    1.585</td> <td> 0.113</td> <td>   -0.506</td> <td>    4.780</td>\n",
       "</tr>\n",
       "</table>"
      ],
      "text/plain": [
       "<class 'statsmodels.iolib.summary.Summary'>\n",
       "\"\"\"\n",
       "                 Generalized Linear Model Regression Results                  \n",
       "==============================================================================\n",
       "Dep. Variable:                   left   No. Observations:                 2719\n",
       "Model:                            GLM   Df Residuals:                     2694\n",
       "Model Family:                Binomial   Df Model:                           24\n",
       "Link Function:                  logit   Scale:                          1.0000\n",
       "Method:                          IRLS   Log-Likelihood:                -1185.5\n",
       "Date:                Tue, 07 Jan 2020   Deviance:                       2370.9\n",
       "Time:                        09:51:18   Pearson chi2:                 2.75e+03\n",
       "No. Iterations:                     5                                         \n",
       "Covariance Type:            nonrobust                                         \n",
       "==========================================================================================\n",
       "                             coef    std err          z      P>|z|      [0.025      0.975]\n",
       "------------------------------------------------------------------------------------------\n",
       "Intercept                 -0.0004      0.000     -1.409      0.159      -0.001       0.000\n",
       "age                       -0.0034      0.089     -0.038      0.970      -0.178       0.171\n",
       "entrance_1                -0.0041      0.007     -0.567      0.571      -0.018       0.010\n",
       "entrance_2                -0.0002      0.000     -1.041      0.298      -0.001       0.000\n",
       "entrance_comb              0.0002      0.000      0.967      0.334      -0.000       0.001\n",
       "FIRST_TERM             -7.651e-07   8.34e-06     -0.092      0.927   -1.71e-05    1.56e-05\n",
       "ST_2006                    0.0498      0.124      0.402      0.688      -0.193       0.293\n",
       "ST_2007                   -0.3502      0.138     -2.543      0.011      -0.620      -0.080\n",
       "ST_2008                    0.0515      0.121      0.426      0.670      -0.186       0.289\n",
       "ST_2009                    0.0401      0.115      0.348      0.728      -0.186       0.266\n",
       "ST_2010                    0.1263      0.125      1.012      0.312      -0.118       0.371\n",
       "ST_2011                    0.0820      0.126      0.653      0.514      -0.164       0.328\n",
       "DISTANCE_FROM_HOME         0.0002      0.000      1.048      0.294      -0.000       0.001\n",
       "HIGH_SCHL_GPA             -0.1180      0.126     -0.935      0.350      -0.366       0.130\n",
       "amt_std_need           -4.629e-07    3.2e-07     -1.447      0.148   -1.09e-06    1.64e-07\n",
       "course_fee              1.902e-07   2.67e-07      0.713      0.476   -3.33e-07    7.13e-07\n",
       "e_fmly_contrb          -1.048e-07   1.25e-07     -0.841      0.400   -3.49e-07    1.39e-07\n",
       "unmet_std_need         -9.414e-07   1.18e-06     -0.797      0.425   -3.26e-06    1.37e-06\n",
       "F_attained_perc            0.0538      0.290      0.185      0.853      -0.515       0.622\n",
       "S_attained_perc           -1.0868      0.271     -4.012      0.000      -1.618      -0.556\n",
       "funding                   -0.0505      0.287     -0.176      0.860      -0.613       0.512\n",
       "S_1_course_not_elected    -0.1490      0.438     -0.341      0.733      -1.007       0.709\n",
       "S_1_grade_B               -0.4162      0.145     -2.870      0.004      -0.700      -0.132\n",
       "S_1_grade_UD               3.5090      0.436      8.047      0.000       2.654       4.364\n",
       "S_2_grade_B               -0.2931      0.126     -2.325      0.020      -0.540      -0.046\n",
       "S_2_grade_UD              -0.1384      0.119     -1.160      0.246      -0.372       0.096\n",
       "S_2_course_not_elected    -0.1384      0.119     -1.160      0.246      -0.372       0.096\n",
       "unmet_percent              2.1371      1.348      1.585      0.113      -0.506       4.780\n",
       "==========================================================================================\n",
       "\"\"\""
      ]
     },
     "execution_count": 87,
     "metadata": {},
     "output_type": "execute_result"
    }
   ],
   "source": [
    "log_model1.summary()"
   ]
  },
  {
   "cell_type": "code",
   "execution_count": 88,
   "metadata": {},
   "outputs": [],
   "source": [
    "####   "
   ]
  },
  {
   "cell_type": "code",
   "execution_count": 89,
   "metadata": {},
   "outputs": [],
   "source": [
    "dtm_1=dtm.copy()"
   ]
  },
  {
   "cell_type": "code",
   "execution_count": 90,
   "metadata": {},
   "outputs": [
    {
     "data": {
      "text/html": [
       "<div>\n",
       "<style scoped>\n",
       "    .dataframe tbody tr th:only-of-type {\n",
       "        vertical-align: middle;\n",
       "    }\n",
       "\n",
       "    .dataframe tbody tr th {\n",
       "        vertical-align: top;\n",
       "    }\n",
       "\n",
       "    .dataframe thead th {\n",
       "        text-align: right;\n",
       "    }\n",
       "</style>\n",
       "<table border=\"1\" class=\"dataframe\">\n",
       "  <thead>\n",
       "    <tr style=\"text-align: right;\">\n",
       "      <th></th>\n",
       "      <th>id</th>\n",
       "      <th>age</th>\n",
       "      <th>entrance_1</th>\n",
       "      <th>entrance_2</th>\n",
       "      <th>entrance_comb</th>\n",
       "      <th>FIRST_TERM</th>\n",
       "      <th>S_2_course</th>\n",
       "      <th>left</th>\n",
       "      <th>DISTANCE_FROM_HOME</th>\n",
       "      <th>HIGH_SCHL_GPA</th>\n",
       "      <th>...</th>\n",
       "      <th>S_2_grade_B</th>\n",
       "      <th>S_2_grade_UD</th>\n",
       "      <th>S_2_course_not_elected</th>\n",
       "      <th>S_2_course_BIOL</th>\n",
       "      <th>ST_2006</th>\n",
       "      <th>ST_2007</th>\n",
       "      <th>ST_2008</th>\n",
       "      <th>ST_2009</th>\n",
       "      <th>ST_2010</th>\n",
       "      <th>ST_2011</th>\n",
       "    </tr>\n",
       "  </thead>\n",
       "  <tbody>\n",
       "    <tr>\n",
       "      <td>0</td>\n",
       "      <td>7808615.0</td>\n",
       "      <td>18.0</td>\n",
       "      <td>0.0</td>\n",
       "      <td>1150.0</td>\n",
       "      <td>1150.0</td>\n",
       "      <td>200708.0</td>\n",
       "      <td>CHEM</td>\n",
       "      <td>1.0</td>\n",
       "      <td>150.0</td>\n",
       "      <td>4.00</td>\n",
       "      <td>...</td>\n",
       "      <td>0</td>\n",
       "      <td>0</td>\n",
       "      <td>0</td>\n",
       "      <td>0</td>\n",
       "      <td>0</td>\n",
       "      <td>0</td>\n",
       "      <td>1</td>\n",
       "      <td>0</td>\n",
       "      <td>0</td>\n",
       "      <td>0</td>\n",
       "    </tr>\n",
       "    <tr>\n",
       "      <td>1</td>\n",
       "      <td>7830063.0</td>\n",
       "      <td>19.0</td>\n",
       "      <td>26.0</td>\n",
       "      <td>0.0</td>\n",
       "      <td>1190.0</td>\n",
       "      <td>200808.0</td>\n",
       "      <td>ENGL</td>\n",
       "      <td>0.0</td>\n",
       "      <td>69.0</td>\n",
       "      <td>2.89</td>\n",
       "      <td>...</td>\n",
       "      <td>0</td>\n",
       "      <td>0</td>\n",
       "      <td>0</td>\n",
       "      <td>0</td>\n",
       "      <td>0</td>\n",
       "      <td>0</td>\n",
       "      <td>0</td>\n",
       "      <td>1</td>\n",
       "      <td>0</td>\n",
       "      <td>0</td>\n",
       "    </tr>\n",
       "    <tr>\n",
       "      <td>2</td>\n",
       "      <td>7847538.0</td>\n",
       "      <td>18.0</td>\n",
       "      <td>0.0</td>\n",
       "      <td>1020.0</td>\n",
       "      <td>1030.0</td>\n",
       "      <td>201008.0</td>\n",
       "      <td>ENVS</td>\n",
       "      <td>0.0</td>\n",
       "      <td>150.0</td>\n",
       "      <td>3.39</td>\n",
       "      <td>...</td>\n",
       "      <td>0</td>\n",
       "      <td>0</td>\n",
       "      <td>0</td>\n",
       "      <td>0</td>\n",
       "      <td>0</td>\n",
       "      <td>0</td>\n",
       "      <td>0</td>\n",
       "      <td>0</td>\n",
       "      <td>0</td>\n",
       "      <td>1</td>\n",
       "    </tr>\n",
       "    <tr>\n",
       "      <td>3</td>\n",
       "      <td>8006429.0</td>\n",
       "      <td>18.0</td>\n",
       "      <td>0.0</td>\n",
       "      <td>1210.0</td>\n",
       "      <td>1220.0</td>\n",
       "      <td>200708.0</td>\n",
       "      <td>HIST</td>\n",
       "      <td>0.0</td>\n",
       "      <td>150.0</td>\n",
       "      <td>2.93</td>\n",
       "      <td>...</td>\n",
       "      <td>0</td>\n",
       "      <td>0</td>\n",
       "      <td>0</td>\n",
       "      <td>0</td>\n",
       "      <td>0</td>\n",
       "      <td>0</td>\n",
       "      <td>1</td>\n",
       "      <td>0</td>\n",
       "      <td>0</td>\n",
       "      <td>0</td>\n",
       "    </tr>\n",
       "    <tr>\n",
       "      <td>4</td>\n",
       "      <td>7962680.0</td>\n",
       "      <td>18.0</td>\n",
       "      <td>0.0</td>\n",
       "      <td>1200.0</td>\n",
       "      <td>1190.0</td>\n",
       "      <td>200808.0</td>\n",
       "      <td>ENGL</td>\n",
       "      <td>0.0</td>\n",
       "      <td>69.0</td>\n",
       "      <td>3.86</td>\n",
       "      <td>...</td>\n",
       "      <td>0</td>\n",
       "      <td>0</td>\n",
       "      <td>0</td>\n",
       "      <td>0</td>\n",
       "      <td>0</td>\n",
       "      <td>0</td>\n",
       "      <td>0</td>\n",
       "      <td>1</td>\n",
       "      <td>0</td>\n",
       "      <td>0</td>\n",
       "    </tr>\n",
       "  </tbody>\n",
       "</table>\n",
       "<p>5 rows × 34 columns</p>\n",
       "</div>"
      ],
      "text/plain": [
       "          id   age  entrance_1  entrance_2  entrance_comb  FIRST_TERM  \\\n",
       "0  7808615.0  18.0         0.0      1150.0         1150.0    200708.0   \n",
       "1  7830063.0  19.0        26.0         0.0         1190.0    200808.0   \n",
       "2  7847538.0  18.0         0.0      1020.0         1030.0    201008.0   \n",
       "3  8006429.0  18.0         0.0      1210.0         1220.0    200708.0   \n",
       "4  7962680.0  18.0         0.0      1200.0         1190.0    200808.0   \n",
       "\n",
       "  S_2_course  left  DISTANCE_FROM_HOME  HIGH_SCHL_GPA  ...  S_2_grade_B  \\\n",
       "0       CHEM   1.0               150.0           4.00  ...            0   \n",
       "1       ENGL   0.0                69.0           2.89  ...            0   \n",
       "2       ENVS   0.0               150.0           3.39  ...            0   \n",
       "3       HIST   0.0               150.0           2.93  ...            0   \n",
       "4       ENGL   0.0                69.0           3.86  ...            0   \n",
       "\n",
       "   S_2_grade_UD  S_2_course_not_elected  S_2_course_BIOL  ST_2006  ST_2007  \\\n",
       "0             0                       0                0        0        0   \n",
       "1             0                       0                0        0        0   \n",
       "2             0                       0                0        0        0   \n",
       "3             0                       0                0        0        0   \n",
       "4             0                       0                0        0        0   \n",
       "\n",
       "   ST_2008  ST_2009  ST_2010  ST_2011  \n",
       "0        1        0        0        0  \n",
       "1        0        1        0        0  \n",
       "2        0        0        0        1  \n",
       "3        1        0        0        0  \n",
       "4        0        1        0        0  \n",
       "\n",
       "[5 rows x 34 columns]"
      ]
     },
     "execution_count": 90,
     "metadata": {},
     "output_type": "execute_result"
    }
   ],
   "source": [
    "dtm.head()"
   ]
  },
  {
   "cell_type": "code",
   "execution_count": 91,
   "metadata": {},
   "outputs": [],
   "source": [
    "dtm.drop(['age','entrance_1'],axis=1,inplace=True)"
   ]
  },
  {
   "cell_type": "code",
   "execution_count": 92,
   "metadata": {},
   "outputs": [],
   "source": [
    "dtm_train2=dtm.sample(frac=.80,random_state=200)"
   ]
  },
  {
   "cell_type": "code",
   "execution_count": 93,
   "metadata": {},
   "outputs": [],
   "source": [
    "dtm_test2=dtm.drop(dtm_train1.index)"
   ]
  },
  {
   "cell_type": "code",
   "execution_count": 94,
   "metadata": {},
   "outputs": [
    {
     "data": {
      "text/plain": [
       "id                        float64\n",
       "entrance_2                float64\n",
       "entrance_comb             float64\n",
       "FIRST_TERM                float64\n",
       "S_2_course                 object\n",
       "left                      float64\n",
       "DISTANCE_FROM_HOME        float64\n",
       "HIGH_SCHL_GPA             float64\n",
       "amt_std_need              float64\n",
       "course_fee                float64\n",
       "e_fmly_contrb             float64\n",
       "unmet_std_need            float64\n",
       "F_attained_perc           float64\n",
       "S_attained_perc           float64\n",
       "unmet_percent             float64\n",
       "funding                     uint8\n",
       "S_1_course_THEA             uint8\n",
       "S_1_course_not_elected      uint8\n",
       "S_1_grade_A                 uint8\n",
       "S_1_grade_B                 uint8\n",
       "S_1_grade_UD                uint8\n",
       "S_2_grade_A                 uint8\n",
       "S_2_grade_B                 uint8\n",
       "S_2_grade_UD                uint8\n",
       "S_2_course_not_elected      int64\n",
       "S_2_course_BIOL             int64\n",
       "ST_2006                     uint8\n",
       "ST_2007                     uint8\n",
       "ST_2008                     uint8\n",
       "ST_2009                     uint8\n",
       "ST_2010                     uint8\n",
       "ST_2011                     uint8\n",
       "dtype: object"
      ]
     },
     "execution_count": 94,
     "metadata": {},
     "output_type": "execute_result"
    }
   ],
   "source": [
    "dtm.dtypes"
   ]
  },
  {
   "cell_type": "code",
   "execution_count": 95,
   "metadata": {},
   "outputs": [],
   "source": [
    "####  Using backward method I have cutdown the variables one by one which is not significant to my target varibles  ###"
   ]
  },
  {
   "cell_type": "code",
   "execution_count": 138,
   "metadata": {},
   "outputs": [],
   "source": [
    "log_model2=smf.glm('left~ST_2007+unmet_percent+S_attained_perc+S_1_course_not_elected+S_1_grade_B+S_2_grade_B+S_2_course_not_elected',data=dtm_train2,family=sm.families.Binomial()).fit()"
   ]
  },
  {
   "cell_type": "code",
   "execution_count": 139,
   "metadata": {},
   "outputs": [
    {
     "data": {
      "text/html": [
       "<table class=\"simpletable\">\n",
       "<caption>Generalized Linear Model Regression Results</caption>\n",
       "<tr>\n",
       "  <th>Dep. Variable:</th>         <td>left</td>       <th>  No. Observations:  </th>  <td>  2719</td> \n",
       "</tr>\n",
       "<tr>\n",
       "  <th>Model:</th>                  <td>GLM</td>       <th>  Df Residuals:      </th>  <td>  2711</td> \n",
       "</tr>\n",
       "<tr>\n",
       "  <th>Model Family:</th>        <td>Binomial</td>     <th>  Df Model:          </th>  <td>     7</td> \n",
       "</tr>\n",
       "<tr>\n",
       "  <th>Link Function:</th>         <td>logit</td>      <th>  Scale:             </th> <td>  1.0000</td>\n",
       "</tr>\n",
       "<tr>\n",
       "  <th>Method:</th>                <td>IRLS</td>       <th>  Log-Likelihood:    </th> <td> -1237.6</td>\n",
       "</tr>\n",
       "<tr>\n",
       "  <th>Date:</th>            <td>Tue, 07 Jan 2020</td> <th>  Deviance:          </th> <td>  2475.2</td>\n",
       "</tr>\n",
       "<tr>\n",
       "  <th>Time:</th>                <td>10:17:53</td>     <th>  Pearson chi2:      </th> <td>2.76e+03</td>\n",
       "</tr>\n",
       "<tr>\n",
       "  <th>No. Iterations:</th>          <td>5</td>        <th>                     </th>     <td> </td>   \n",
       "</tr>\n",
       "<tr>\n",
       "  <th>Covariance Type:</th>     <td>nonrobust</td>    <th>                     </th>     <td> </td>   \n",
       "</tr>\n",
       "</table>\n",
       "<table class=\"simpletable\">\n",
       "<tr>\n",
       "             <td></td>               <th>coef</th>     <th>std err</th>      <th>z</th>      <th>P>|z|</th>  <th>[0.025</th>    <th>0.975]</th>  \n",
       "</tr>\n",
       "<tr>\n",
       "  <th>Intercept</th>              <td>   -0.7263</td> <td>    0.215</td> <td>   -3.385</td> <td> 0.001</td> <td>   -1.147</td> <td>   -0.306</td>\n",
       "</tr>\n",
       "<tr>\n",
       "  <th>ST_2007</th>                <td>   -0.4174</td> <td>    0.159</td> <td>   -2.623</td> <td> 0.009</td> <td>   -0.729</td> <td>   -0.105</td>\n",
       "</tr>\n",
       "<tr>\n",
       "  <th>unmet_percent</th>          <td>    0.5448</td> <td>    0.268</td> <td>    2.032</td> <td> 0.042</td> <td>    0.019</td> <td>    1.070</td>\n",
       "</tr>\n",
       "<tr>\n",
       "  <th>S_attained_perc</th>        <td>   -0.7513</td> <td>    0.245</td> <td>   -3.061</td> <td> 0.002</td> <td>   -1.232</td> <td>   -0.270</td>\n",
       "</tr>\n",
       "<tr>\n",
       "  <th>S_1_course_not_elected</th> <td>    2.1697</td> <td>    0.283</td> <td>    7.665</td> <td> 0.000</td> <td>    1.615</td> <td>    2.724</td>\n",
       "</tr>\n",
       "<tr>\n",
       "  <th>S_1_grade_B</th>            <td>   -0.6321</td> <td>    0.140</td> <td>   -4.507</td> <td> 0.000</td> <td>   -0.907</td> <td>   -0.357</td>\n",
       "</tr>\n",
       "<tr>\n",
       "  <th>S_2_grade_B</th>            <td>   -0.2838</td> <td>    0.125</td> <td>   -2.273</td> <td> 0.023</td> <td>   -0.528</td> <td>   -0.039</td>\n",
       "</tr>\n",
       "<tr>\n",
       "  <th>S_2_course_not_elected</th> <td>    0.8493</td> <td>    0.160</td> <td>    5.314</td> <td> 0.000</td> <td>    0.536</td> <td>    1.163</td>\n",
       "</tr>\n",
       "</table>"
      ],
      "text/plain": [
       "<class 'statsmodels.iolib.summary.Summary'>\n",
       "\"\"\"\n",
       "                 Generalized Linear Model Regression Results                  \n",
       "==============================================================================\n",
       "Dep. Variable:                   left   No. Observations:                 2719\n",
       "Model:                            GLM   Df Residuals:                     2711\n",
       "Model Family:                Binomial   Df Model:                            7\n",
       "Link Function:                  logit   Scale:                          1.0000\n",
       "Method:                          IRLS   Log-Likelihood:                -1237.6\n",
       "Date:                Tue, 07 Jan 2020   Deviance:                       2475.2\n",
       "Time:                        10:17:53   Pearson chi2:                 2.76e+03\n",
       "No. Iterations:                     5                                         \n",
       "Covariance Type:            nonrobust                                         \n",
       "==========================================================================================\n",
       "                             coef    std err          z      P>|z|      [0.025      0.975]\n",
       "------------------------------------------------------------------------------------------\n",
       "Intercept                 -0.7263      0.215     -3.385      0.001      -1.147      -0.306\n",
       "ST_2007                   -0.4174      0.159     -2.623      0.009      -0.729      -0.105\n",
       "unmet_percent              0.5448      0.268      2.032      0.042       0.019       1.070\n",
       "S_attained_perc           -0.7513      0.245     -3.061      0.002      -1.232      -0.270\n",
       "S_1_course_not_elected     2.1697      0.283      7.665      0.000       1.615       2.724\n",
       "S_1_grade_B               -0.6321      0.140     -4.507      0.000      -0.907      -0.357\n",
       "S_2_grade_B               -0.2838      0.125     -2.273      0.023      -0.528      -0.039\n",
       "S_2_course_not_elected     0.8493      0.160      5.314      0.000       0.536       1.163\n",
       "==========================================================================================\n",
       "\"\"\""
      ]
     },
     "execution_count": 139,
     "metadata": {},
     "output_type": "execute_result"
    }
   ],
   "source": [
    "log_model2.summary()"
   ]
  },
  {
   "cell_type": "code",
   "execution_count": 98,
   "metadata": {},
   "outputs": [],
   "source": [
    "###  through ROC curve I come to know that 0.32 will be better threshold value for trade-off between True +ve and False +ve \n",
    "###  threshold value =0.32\n",
    "\n",
    "pred=log_model2.predict(dtm_test2).map(lambda x:1 if x>0.32 else 0)\n"
   ]
  },
  {
   "cell_type": "code",
   "execution_count": 99,
   "metadata": {},
   "outputs": [],
   "source": [
    "actual=dtm_test2[\"left\"]"
   ]
  },
  {
   "cell_type": "code",
   "execution_count": 100,
   "metadata": {},
   "outputs": [],
   "source": [
    "pre_c=log_model2.predict(dtm_test2)"
   ]
  },
  {
   "cell_type": "code",
   "execution_count": 101,
   "metadata": {},
   "outputs": [],
   "source": [
    "cm=metrics.confusion_matrix(actual,pred)"
   ]
  },
  {
   "cell_type": "code",
   "execution_count": 102,
   "metadata": {},
   "outputs": [
    {
     "data": {
      "text/plain": [
       "array([[496,  37],\n",
       "       [102,  45]], dtype=int64)"
      ]
     },
     "execution_count": 102,
     "metadata": {},
     "output_type": "execute_result"
    }
   ],
   "source": [
    "cm"
   ]
  },
  {
   "cell_type": "code",
   "execution_count": 103,
   "metadata": {},
   "outputs": [
    {
     "data": {
      "image/png": "[encoded data removed]",
      "text/plain": [
       "<Figure size 432x288 with 1 Axes>"
      ]
     },
     "metadata": {
      "needs_background": "light"
     },
     "output_type": "display_data"
    }
   ],
   "source": [
    "plt.clf()\n",
    "plt.imshow(cm, interpolation='nearest', cmap=plt.cm.Wistia)\n",
    "classNames = ['0','1']\n",
    "plt.title('CONFUSION MATRIX \\n-------')\n",
    "plt.ylabel('Actual')\n",
    "plt.xlabel('Predicted')\n",
    "tick_marks = np.arange(len(classNames))\n",
    "plt.xticks(tick_marks, classNames, rotation=45)\n",
    "plt.yticks(tick_marks, classNames)\n",
    "s = [['TN','FP'], ['FN', 'TP']]\n",
    "for i in range(2):\n",
    "    for j in range(2):\n",
    "        plt.text(j,i, str(s[i][j])+\" = \"+str(cm[i][j]))\n",
    "plt.show()"
   ]
  },
  {
   "cell_type": "code",
   "execution_count": 104,
   "metadata": {},
   "outputs": [
    {
     "data": {
      "text/plain": [
       "0.656826332784521"
      ]
     },
     "execution_count": 104,
     "metadata": {},
     "output_type": "execute_result"
    }
   ],
   "source": [
    "####  ROC_AUC_SCORE    ######\n",
    "\n",
    "metrics.roc_auc_score(actual,pre_c)"
   ]
  },
  {
   "cell_type": "code",
   "execution_count": 105,
   "metadata": {},
   "outputs": [
    {
     "data": {
      "text/plain": [
       "0    598\n",
       "1     82\n",
       "dtype: int64"
      ]
     },
     "execution_count": 105,
     "metadata": {},
     "output_type": "execute_result"
    }
   ],
   "source": [
    "pred.value_counts()"
   ]
  },
  {
   "cell_type": "code",
   "execution_count": 106,
   "metadata": {},
   "outputs": [
    {
     "data": {
      "text/plain": [
       "0.0    533\n",
       "1.0    147\n",
       "Name: left, dtype: int64"
      ]
     },
     "execution_count": 106,
     "metadata": {},
     "output_type": "execute_result"
    }
   ],
   "source": [
    "dtm_test2['left'].value_counts()"
   ]
  },
  {
   "cell_type": "code",
   "execution_count": 107,
   "metadata": {},
   "outputs": [
    {
     "data": {
      "text/plain": [
       "(680,)"
      ]
     },
     "execution_count": 107,
     "metadata": {},
     "output_type": "execute_result"
    }
   ],
   "source": [
    "dtm_test2['left'].shape"
   ]
  },
  {
   "cell_type": "code",
   "execution_count": 108,
   "metadata": {},
   "outputs": [],
   "source": [
    "pre_c=log_model2.predict(dtm_test2)    ####   continous prob for test data   #####"
   ]
  },
  {
   "cell_type": "code",
   "execution_count": 109,
   "metadata": {},
   "outputs": [],
   "source": [
    "fpr,tpr,thresholds=metrics.roc_curve(actual,pre_c)\n",
    "x,y=np.arange(0,1.1,0.1),np.arange(0,1.1,0.1)"
   ]
  },
  {
   "cell_type": "code",
   "execution_count": 110,
   "metadata": {},
   "outputs": [
    {
     "data": {
      "text/plain": [
       "[<matplotlib.lines.Line2D at 0x97692b0>]"
      ]
     },
     "execution_count": 110,
     "metadata": {},
     "output_type": "execute_result"
    },
    {
     "data": {
      "image/png": "[encoded data removed]",
      "text/plain": [
       "<Figure size 432x288 with 1 Axes>"
      ]
     },
     "metadata": {
      "needs_background": "light"
     },
     "output_type": "display_data"
    }
   ],
   "source": [
    "plt.plot(fpr,tpr,\"-\")\n",
    "plt.plot(x,y,'b--')"
   ]
  },
  {
   "cell_type": "code",
   "execution_count": 111,
   "metadata": {},
   "outputs": [],
   "source": [
    "#####  To find which students are likely to leave the courses within one year   ####   "
   ]
  },
  {
   "cell_type": "code",
   "execution_count": null,
   "metadata": {},
   "outputs": [],
   "source": []
  },
  {
   "cell_type": "code",
   "execution_count": 112,
   "metadata": {},
   "outputs": [],
   "source": [
    "dtm_test2[\"prob\"]=log_model2.predict(dtm_test2)"
   ]
  },
  {
   "cell_type": "code",
   "execution_count": 113,
   "metadata": {},
   "outputs": [],
   "source": [
    "dtm_test2['prob_deciles']=pd.qcut(dtm_test2['prob'],q=10)"
   ]
  },
  {
   "cell_type": "code",
   "execution_count": 114,
   "metadata": {},
   "outputs": [
    {
     "data": {
      "text/plain": [
       "17      (0.216, 0.246]\n",
       "18      (0.161, 0.186]\n",
       "48      (0.194, 0.216]\n",
       "67      (0.161, 0.186]\n",
       "73      (0.161, 0.186]\n",
       "             ...      \n",
       "3367    (0.348, 0.908]\n",
       "3370    (0.246, 0.348]\n",
       "3377    (0.348, 0.908]\n",
       "3390    (0.348, 0.908]\n",
       "3394    (0.348, 0.908]\n",
       "Name: prob_deciles, Length: 680, dtype: category\n",
       "Categories (10, interval[float64]): [(0.0557, 0.0837] < (0.0837, 0.108] < (0.108, 0.141] < (0.141, 0.161] ... (0.194, 0.216] < (0.216, 0.246] < (0.246, 0.348] < (0.348, 0.908]]"
      ]
     },
     "execution_count": 114,
     "metadata": {},
     "output_type": "execute_result"
    }
   ],
   "source": [
    "dtm_test2['prob_deciles']"
   ]
  },
  {
   "cell_type": "code",
   "execution_count": 115,
   "metadata": {},
   "outputs": [],
   "source": [
    "gains=dtm_test2.groupby(\"prob_deciles\",as_index=False)['left'].agg(['sum','count']).reset_index().sort_values(\"prob_deciles\",\n",
    "                 ascending=False)"
   ]
  },
  {
   "cell_type": "code",
   "execution_count": 116,
   "metadata": {},
   "outputs": [
    {
     "data": {
      "text/html": [
       "<div>\n",
       "<style scoped>\n",
       "    .dataframe tbody tr th:only-of-type {\n",
       "        vertical-align: middle;\n",
       "    }\n",
       "\n",
       "    .dataframe tbody tr th {\n",
       "        vertical-align: top;\n",
       "    }\n",
       "\n",
       "    .dataframe thead th {\n",
       "        text-align: right;\n",
       "    }\n",
       "</style>\n",
       "<table border=\"1\" class=\"dataframe\">\n",
       "  <thead>\n",
       "    <tr style=\"text-align: right;\">\n",
       "      <th></th>\n",
       "      <th>prob_deciles</th>\n",
       "      <th>sum</th>\n",
       "      <th>count</th>\n",
       "    </tr>\n",
       "  </thead>\n",
       "  <tbody>\n",
       "    <tr>\n",
       "      <td>9</td>\n",
       "      <td>(0.348, 0.908]</td>\n",
       "      <td>29.0</td>\n",
       "      <td>54</td>\n",
       "    </tr>\n",
       "    <tr>\n",
       "      <td>8</td>\n",
       "      <td>(0.246, 0.348]</td>\n",
       "      <td>32.0</td>\n",
       "      <td>82</td>\n",
       "    </tr>\n",
       "    <tr>\n",
       "      <td>7</td>\n",
       "      <td>(0.216, 0.246]</td>\n",
       "      <td>11.0</td>\n",
       "      <td>64</td>\n",
       "    </tr>\n",
       "    <tr>\n",
       "      <td>6</td>\n",
       "      <td>(0.194, 0.216]</td>\n",
       "      <td>13.0</td>\n",
       "      <td>72</td>\n",
       "    </tr>\n",
       "    <tr>\n",
       "      <td>5</td>\n",
       "      <td>(0.186, 0.194]</td>\n",
       "      <td>2.0</td>\n",
       "      <td>14</td>\n",
       "    </tr>\n",
       "    <tr>\n",
       "      <td>4</td>\n",
       "      <td>(0.161, 0.186]</td>\n",
       "      <td>15.0</td>\n",
       "      <td>122</td>\n",
       "    </tr>\n",
       "    <tr>\n",
       "      <td>3</td>\n",
       "      <td>(0.141, 0.161]</td>\n",
       "      <td>16.0</td>\n",
       "      <td>68</td>\n",
       "    </tr>\n",
       "    <tr>\n",
       "      <td>2</td>\n",
       "      <td>(0.108, 0.141]</td>\n",
       "      <td>9.0</td>\n",
       "      <td>49</td>\n",
       "    </tr>\n",
       "    <tr>\n",
       "      <td>1</td>\n",
       "      <td>(0.0837, 0.108]</td>\n",
       "      <td>8.0</td>\n",
       "      <td>73</td>\n",
       "    </tr>\n",
       "    <tr>\n",
       "      <td>0</td>\n",
       "      <td>(0.0557, 0.0837]</td>\n",
       "      <td>12.0</td>\n",
       "      <td>82</td>\n",
       "    </tr>\n",
       "  </tbody>\n",
       "</table>\n",
       "</div>"
      ],
      "text/plain": [
       "       prob_deciles   sum  count\n",
       "9    (0.348, 0.908]  29.0     54\n",
       "8    (0.246, 0.348]  32.0     82\n",
       "7    (0.216, 0.246]  11.0     64\n",
       "6    (0.194, 0.216]  13.0     72\n",
       "5    (0.186, 0.194]   2.0     14\n",
       "4    (0.161, 0.186]  15.0    122\n",
       "3    (0.141, 0.161]  16.0     68\n",
       "2    (0.108, 0.141]   9.0     49\n",
       "1   (0.0837, 0.108]   8.0     73\n",
       "0  (0.0557, 0.0837]  12.0     82"
      ]
     },
     "execution_count": 116,
     "metadata": {},
     "output_type": "execute_result"
    }
   ],
   "source": [
    "gains"
   ]
  },
  {
   "cell_type": "code",
   "execution_count": 117,
   "metadata": {},
   "outputs": [],
   "source": [
    "gains[\"PercEvents\"]=gains['sum']/gains['sum'].sum()"
   ]
  },
  {
   "cell_type": "code",
   "execution_count": 118,
   "metadata": {},
   "outputs": [],
   "source": [
    "gains[\"CumulativeEvents\"]=gains.PercEvents.cumsum()"
   ]
  },
  {
   "cell_type": "code",
   "execution_count": 119,
   "metadata": {},
   "outputs": [
    {
     "data": {
      "text/html": [
       "<div>\n",
       "<style scoped>\n",
       "    .dataframe tbody tr th:only-of-type {\n",
       "        vertical-align: middle;\n",
       "    }\n",
       "\n",
       "    .dataframe tbody tr th {\n",
       "        vertical-align: top;\n",
       "    }\n",
       "\n",
       "    .dataframe thead th {\n",
       "        text-align: right;\n",
       "    }\n",
       "</style>\n",
       "<table border=\"1\" class=\"dataframe\">\n",
       "  <thead>\n",
       "    <tr style=\"text-align: right;\">\n",
       "      <th></th>\n",
       "      <th>prob_deciles</th>\n",
       "      <th>sum</th>\n",
       "      <th>count</th>\n",
       "      <th>PercEvents</th>\n",
       "      <th>CumulativeEvents</th>\n",
       "    </tr>\n",
       "  </thead>\n",
       "  <tbody>\n",
       "    <tr>\n",
       "      <td>9</td>\n",
       "      <td>(0.348, 0.908]</td>\n",
       "      <td>29.0</td>\n",
       "      <td>54</td>\n",
       "      <td>0.197279</td>\n",
       "      <td>0.197279</td>\n",
       "    </tr>\n",
       "    <tr>\n",
       "      <td>8</td>\n",
       "      <td>(0.246, 0.348]</td>\n",
       "      <td>32.0</td>\n",
       "      <td>82</td>\n",
       "      <td>0.217687</td>\n",
       "      <td>0.414966</td>\n",
       "    </tr>\n",
       "    <tr>\n",
       "      <td>7</td>\n",
       "      <td>(0.216, 0.246]</td>\n",
       "      <td>11.0</td>\n",
       "      <td>64</td>\n",
       "      <td>0.074830</td>\n",
       "      <td>0.489796</td>\n",
       "    </tr>\n",
       "    <tr>\n",
       "      <td>6</td>\n",
       "      <td>(0.194, 0.216]</td>\n",
       "      <td>13.0</td>\n",
       "      <td>72</td>\n",
       "      <td>0.088435</td>\n",
       "      <td>0.578231</td>\n",
       "    </tr>\n",
       "    <tr>\n",
       "      <td>5</td>\n",
       "      <td>(0.186, 0.194]</td>\n",
       "      <td>2.0</td>\n",
       "      <td>14</td>\n",
       "      <td>0.013605</td>\n",
       "      <td>0.591837</td>\n",
       "    </tr>\n",
       "    <tr>\n",
       "      <td>4</td>\n",
       "      <td>(0.161, 0.186]</td>\n",
       "      <td>15.0</td>\n",
       "      <td>122</td>\n",
       "      <td>0.102041</td>\n",
       "      <td>0.693878</td>\n",
       "    </tr>\n",
       "    <tr>\n",
       "      <td>3</td>\n",
       "      <td>(0.141, 0.161]</td>\n",
       "      <td>16.0</td>\n",
       "      <td>68</td>\n",
       "      <td>0.108844</td>\n",
       "      <td>0.802721</td>\n",
       "    </tr>\n",
       "    <tr>\n",
       "      <td>2</td>\n",
       "      <td>(0.108, 0.141]</td>\n",
       "      <td>9.0</td>\n",
       "      <td>49</td>\n",
       "      <td>0.061224</td>\n",
       "      <td>0.863946</td>\n",
       "    </tr>\n",
       "    <tr>\n",
       "      <td>1</td>\n",
       "      <td>(0.0837, 0.108]</td>\n",
       "      <td>8.0</td>\n",
       "      <td>73</td>\n",
       "      <td>0.054422</td>\n",
       "      <td>0.918367</td>\n",
       "    </tr>\n",
       "    <tr>\n",
       "      <td>0</td>\n",
       "      <td>(0.0557, 0.0837]</td>\n",
       "      <td>12.0</td>\n",
       "      <td>82</td>\n",
       "      <td>0.081633</td>\n",
       "      <td>1.000000</td>\n",
       "    </tr>\n",
       "  </tbody>\n",
       "</table>\n",
       "</div>"
      ],
      "text/plain": [
       "       prob_deciles   sum  count  PercEvents  CumulativeEvents\n",
       "9    (0.348, 0.908]  29.0     54    0.197279          0.197279\n",
       "8    (0.246, 0.348]  32.0     82    0.217687          0.414966\n",
       "7    (0.216, 0.246]  11.0     64    0.074830          0.489796\n",
       "6    (0.194, 0.216]  13.0     72    0.088435          0.578231\n",
       "5    (0.186, 0.194]   2.0     14    0.013605          0.591837\n",
       "4    (0.161, 0.186]  15.0    122    0.102041          0.693878\n",
       "3    (0.141, 0.161]  16.0     68    0.108844          0.802721\n",
       "2    (0.108, 0.141]   9.0     49    0.061224          0.863946\n",
       "1   (0.0837, 0.108]   8.0     73    0.054422          0.918367\n",
       "0  (0.0557, 0.0837]  12.0     82    0.081633          1.000000"
      ]
     },
     "execution_count": 119,
     "metadata": {},
     "output_type": "execute_result"
    }
   ],
   "source": [
    "gains"
   ]
  },
  {
   "cell_type": "markdown",
   "metadata": {},
   "source": [
    "##### Top 25 students who are most likely to leave the course ######"
   ]
  },
  {
   "cell_type": "code",
   "execution_count": 120,
   "metadata": {},
   "outputs": [
    {
     "data": {
      "text/html": [
       "<div>\n",
       "<style scoped>\n",
       "    .dataframe tbody tr th:only-of-type {\n",
       "        vertical-align: middle;\n",
       "    }\n",
       "\n",
       "    .dataframe tbody tr th {\n",
       "        vertical-align: top;\n",
       "    }\n",
       "\n",
       "    .dataframe thead th {\n",
       "        text-align: right;\n",
       "    }\n",
       "</style>\n",
       "<table border=\"1\" class=\"dataframe\">\n",
       "  <thead>\n",
       "    <tr style=\"text-align: right;\">\n",
       "      <th></th>\n",
       "      <th>id</th>\n",
       "    </tr>\n",
       "  </thead>\n",
       "  <tbody>\n",
       "    <tr>\n",
       "      <td>3314</td>\n",
       "      <td>7822678.0</td>\n",
       "    </tr>\n",
       "    <tr>\n",
       "      <td>3353</td>\n",
       "      <td>7807563.0</td>\n",
       "    </tr>\n",
       "    <tr>\n",
       "      <td>3320</td>\n",
       "      <td>8001242.0</td>\n",
       "    </tr>\n",
       "    <tr>\n",
       "      <td>3271</td>\n",
       "      <td>7769324.0</td>\n",
       "    </tr>\n",
       "    <tr>\n",
       "      <td>3298</td>\n",
       "      <td>7780464.0</td>\n",
       "    </tr>\n",
       "    <tr>\n",
       "      <td>3189</td>\n",
       "      <td>7962852.0</td>\n",
       "    </tr>\n",
       "    <tr>\n",
       "      <td>3174</td>\n",
       "      <td>8031679.0</td>\n",
       "    </tr>\n",
       "    <tr>\n",
       "      <td>3251</td>\n",
       "      <td>7888524.0</td>\n",
       "    </tr>\n",
       "    <tr>\n",
       "      <td>3270</td>\n",
       "      <td>7978964.0</td>\n",
       "    </tr>\n",
       "    <tr>\n",
       "      <td>3257</td>\n",
       "      <td>7922261.0</td>\n",
       "    </tr>\n",
       "    <tr>\n",
       "      <td>3394</td>\n",
       "      <td>7960053.0</td>\n",
       "    </tr>\n",
       "    <tr>\n",
       "      <td>3242</td>\n",
       "      <td>7872646.0</td>\n",
       "    </tr>\n",
       "    <tr>\n",
       "      <td>3288</td>\n",
       "      <td>7886891.0</td>\n",
       "    </tr>\n",
       "    <tr>\n",
       "      <td>3239</td>\n",
       "      <td>7800432.0</td>\n",
       "    </tr>\n",
       "    <tr>\n",
       "      <td>3238</td>\n",
       "      <td>8011218.0</td>\n",
       "    </tr>\n",
       "    <tr>\n",
       "      <td>3232</td>\n",
       "      <td>7975887.0</td>\n",
       "    </tr>\n",
       "    <tr>\n",
       "      <td>3211</td>\n",
       "      <td>7880975.0</td>\n",
       "    </tr>\n",
       "    <tr>\n",
       "      <td>3169</td>\n",
       "      <td>7932710.0</td>\n",
       "    </tr>\n",
       "    <tr>\n",
       "      <td>3273</td>\n",
       "      <td>7958971.0</td>\n",
       "    </tr>\n",
       "    <tr>\n",
       "      <td>3262</td>\n",
       "      <td>7849686.0</td>\n",
       "    </tr>\n",
       "    <tr>\n",
       "      <td>3377</td>\n",
       "      <td>7964050.0</td>\n",
       "    </tr>\n",
       "    <tr>\n",
       "      <td>3315</td>\n",
       "      <td>7821099.0</td>\n",
       "    </tr>\n",
       "    <tr>\n",
       "      <td>3367</td>\n",
       "      <td>7873161.0</td>\n",
       "    </tr>\n",
       "    <tr>\n",
       "      <td>3390</td>\n",
       "      <td>7996917.0</td>\n",
       "    </tr>\n",
       "    <tr>\n",
       "      <td>3362</td>\n",
       "      <td>7878802.0</td>\n",
       "    </tr>\n",
       "  </tbody>\n",
       "</table>\n",
       "</div>"
      ],
      "text/plain": [
       "             id\n",
       "3314  7822678.0\n",
       "3353  7807563.0\n",
       "3320  8001242.0\n",
       "3271  7769324.0\n",
       "3298  7780464.0\n",
       "3189  7962852.0\n",
       "3174  8031679.0\n",
       "3251  7888524.0\n",
       "3270  7978964.0\n",
       "3257  7922261.0\n",
       "3394  7960053.0\n",
       "3242  7872646.0\n",
       "3288  7886891.0\n",
       "3239  7800432.0\n",
       "3238  8011218.0\n",
       "3232  7975887.0\n",
       "3211  7880975.0\n",
       "3169  7932710.0\n",
       "3273  7958971.0\n",
       "3262  7849686.0\n",
       "3377  7964050.0\n",
       "3315  7821099.0\n",
       "3367  7873161.0\n",
       "3390  7996917.0\n",
       "3362  7878802.0"
      ]
     },
     "execution_count": 120,
     "metadata": {},
     "output_type": "execute_result"
    }
   ],
   "source": [
    "###   top 25 students who are more likely to leave the course within one year   #####\n",
    "\n",
    "dtm_test2.sort_values(\"prob\",ascending=False)[['id']].head(25)"
   ]
  },
  {
   "cell_type": "markdown",
   "metadata": {},
   "source": [
    "### MODEL BUILDING   ## RANDOM FOREST CLASSIFIER  ## \n"
   ]
  },
  {
   "cell_type": "code",
   "execution_count": 121,
   "metadata": {},
   "outputs": [],
   "source": [
    "X5=dtm[['ST_2007','S_1_course_THEA','S_1_course_not_elected','S_1_grade_A','S_1_grade_B','S_2_course_BIOL','S_2_course_not_elected','S_2_grade_A','S_2_grade_B','S_attained_perc','amt_std_need','unmet_std_need','HIGH_SCHL_GPA','entrance_2']]"
   ]
  },
  {
   "cell_type": "code",
   "execution_count": 122,
   "metadata": {},
   "outputs": [],
   "source": [
    "y5=dtm['left']"
   ]
  },
  {
   "cell_type": "code",
   "execution_count": 123,
   "metadata": {},
   "outputs": [],
   "source": [
    "X5_train,X5_test,y5_train,y5_test=model_selection.train_test_split(X5,y5,test_size=0.20,random_state=200)"
   ]
  },
  {
   "cell_type": "code",
   "execution_count": 124,
   "metadata": {},
   "outputs": [],
   "source": [
    "rf_model5=RandomForestClassifier(oob_score=True,n_jobs=-1,n_estimators=300,random_state=200).fit(X5_train,y5_train)"
   ]
  },
  {
   "cell_type": "code",
   "execution_count": 125,
   "metadata": {},
   "outputs": [],
   "source": [
    "rf_pred5=rf_model5.predict(X5_test)"
   ]
  },
  {
   "cell_type": "code",
   "execution_count": 126,
   "metadata": {},
   "outputs": [
    {
     "data": {
      "text/plain": [
       "array([[504,  29],\n",
       "       [112,  35]], dtype=int64)"
      ]
     },
     "execution_count": 126,
     "metadata": {},
     "output_type": "execute_result"
    }
   ],
   "source": [
    "cmr=metrics.confusion_matrix(y5_test,rf_pred5)\n",
    "cmr"
   ]
  },
  {
   "cell_type": "code",
   "execution_count": 127,
   "metadata": {},
   "outputs": [
    {
     "data": {
      "image/png": "[encoded data removed]",
      "text/plain": [
       "<Figure size 432x288 with 1 Axes>"
      ]
     },
     "metadata": {
      "needs_background": "light"
     },
     "output_type": "display_data"
    }
   ],
   "source": [
    "plt.clf()\n",
    "plt.imshow(cmr, interpolation='nearest', cmap=plt.cm.Wistia)\n",
    "classNames = ['0','1']\n",
    "plt.title('CONFUSION MATRIX \\n-------')\n",
    "plt.ylabel('Actual')\n",
    "plt.xlabel('Predicted')\n",
    "tick_marks = np.arange(len(classNames))\n",
    "plt.xticks(tick_marks, classNames, rotation=45)\n",
    "plt.yticks(tick_marks, classNames)\n",
    "s = [['TN','FP'], ['FN', 'TP']]\n",
    "for i in range(2):\n",
    "    for j in range(2):\n",
    "        plt.text(j,i, str(s[i][j])+\" = \"+str(cmr[i][j]))\n",
    "plt.show()"
   ]
  },
  {
   "cell_type": "code",
   "execution_count": null,
   "metadata": {},
   "outputs": [],
   "source": []
  },
  {
   "cell_type": "markdown",
   "metadata": {},
   "source": [
    "######  ACCURACY SCORE    #####      "
   ]
  },
  {
   "cell_type": "code",
   "execution_count": 128,
   "metadata": {},
   "outputs": [
    {
     "data": {
      "text/plain": [
       "0.7955882352941176"
      ]
     },
     "execution_count": 128,
     "metadata": {},
     "output_type": "execute_result"
    }
   ],
   "source": [
    "logistic_accuracy=metrics.accuracy_score(actual,pred)          ###  1  ####   for LOGISTIC MODEL   #####\n",
    "logistic_accuracy"
   ]
  },
  {
   "cell_type": "code",
   "execution_count": 129,
   "metadata": {},
   "outputs": [
    {
     "data": {
      "text/plain": [
       "0.7926470588235294"
      ]
     },
     "execution_count": 129,
     "metadata": {},
     "output_type": "execute_result"
    }
   ],
   "source": [
    "randomForest_accuracy=metrics.accuracy_score(y5_test,rf_pred5) ### 2  ####   for RANDOM FOREST CLASSIFIER  ####\n",
    "randomForest_accuracy"
   ]
  },
  {
   "cell_type": "markdown",
   "metadata": {},
   "source": [
    "### INTERPRETATION  ####\n",
    "\n",
    "1. Unmet Percent:\n",
    "\tIncrease in unmet student need percent, Increase in likelihood that the student will leave the college within one year.\n",
    "\n",
    "2. S_1_Course_notelected:\n",
    "\tStudents who are not elected any course for 1st course of Second term, Increase in likelihood that student will leave the college within one year.\n",
    "\n",
    "3. S_2_Course_notelected:\n",
    "\tStudents who are not elected any course for   2nd  course of Second term, Increase in likelihood that student will leave the college within one year.\n",
    "\n",
    "4. S_Attained_percent:\n",
    "\tIncrease in Attained percent on Second term, Increase the likelihood that student will continue for the next semester.\n",
    "\tStudents who have lesser Attained percent on Second term, are most likely to leave the college.\n",
    "\n",
    "5. ST_2007:\n",
    "\tStudents who enrolled in the batch of 2007, are most likely to continue the college for next semester.\n",
    "\n",
    "6. S_Grade _B (1st & 2nd course):\n",
    "\tStudents who secured Grade B on 1st and 2nd course, increase in likelihood that student will continue the college for next semester."
   ]
  },
  {
   "cell_type": "markdown",
   "metadata": {},
   "source": [
    "####  SUGGESTIONS######\n",
    "\n",
    "DISTANCE FROM HOME :\n",
    "1. Admit more number of  students who have the home in the distance of   85 km or lesser from college, those students have more likelihood to continue the college.\n",
    "2. Reduce admitting the students who have more than 115 km in distance, more likely to leave the college.\n"
   ]
  },
  {
   "cell_type": "code",
   "execution_count": null,
   "metadata": {},
   "outputs": [],
   "source": []
  }
 ],
 "metadata": {
  "kernelspec": {
   "display_name": "Python 3",
   "language": "python",
   "name": "python3"
  },
  "language_info": {
   "codemirror_mode": {
    "name": "ipython",
    "version": 3
   },
   "file_extension": ".py",
   "mimetype": "text/x-python",
   "name": "python",
   "nbconvert_exporter": "python",
   "pygments_lexer": "ipython3",
   "version": "3.7.3"
  }
 },
 "nbformat": 4,
 "nbformat_minor": 2
}
